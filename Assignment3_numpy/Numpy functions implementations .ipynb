{
 "cells": [
  {
   "cell_type": "markdown",
   "metadata": {
    "deletable": true,
    "editable": true
   },
   "source": [
    "## Numpy function implementations"
   ]
  },
  {
   "cell_type": "code",
   "execution_count": 6,
   "metadata": {
    "collapsed": true,
    "deletable": true,
    "editable": true
   },
   "outputs": [],
   "source": [
    "import numpy as np"
   ]
  },
  {
   "cell_type": "code",
   "execution_count": 24,
   "metadata": {
    "collapsed": false,
    "deletable": true,
    "editable": true
   },
   "outputs": [],
   "source": [
    "array_1d = np.array([[1,2,3,4,5]])\n",
    "array_2d = np.array([[1,2,3,4,5],[6,7,8,9,10]])\n",
    "array_2d_1 = np.array([[1,2,3],[4,5,6]])\n",
    "array_2d_2 = np.array([[1,2],[2,3],[3,4]])"
   ]
  },
  {
   "cell_type": "markdown",
   "metadata": {
    "deletable": true,
    "editable": true
   },
   "source": [
    "Sum"
   ]
  },
  {
   "cell_type": "code",
   "execution_count": 90,
   "metadata": {
    "collapsed": false,
    "deletable": true,
    "editable": true
   },
   "outputs": [],
   "source": [
    "def sum_i(a,axis = 2):\n",
    "    \n",
    "    if axis == 2:\n",
    "        sum = 0\n",
    "        for i in range(a.shape[0]):\n",
    "            for j in range(a.shape[1]):\n",
    "                sum = sum + a[i][j]\n",
    "        return sum\n",
    "    \n",
    "    if axis == 0:\n",
    "        sum = np.zeros(a.shape[1])\n",
    "        for i in range(a.shape[1]):\n",
    "            for j in range(a.shape[0]):\n",
    "                sum[i] = sum[i] + a[j][i] \n",
    "        return sum\n",
    "    if axis == 1:\n",
    "        sum = np.zeros(a.shape[0])\n",
    "        for i in range(a.shape[0]):\n",
    "            for j in range(a.shape[1]):\n",
    "                sum[i] = sum[i] + a[i][j]\n",
    "        return sum\n",
    "        \n",
    "    "
   ]
  },
  {
   "cell_type": "markdown",
   "metadata": {
    "deletable": true,
    "editable": true
   },
   "source": [
    "Maximum/minimum"
   ]
  },
  {
   "cell_type": "code",
   "execution_count": 75,
   "metadata": {
    "collapsed": false,
    "deletable": true,
    "editable": true
   },
   "outputs": [],
   "source": [
    "def max_i(a,axis = 2):\n",
    "    if axis == 2:\n",
    "        max = a[0][0]\n",
    "        for i in range(a.shape[0]):\n",
    "            for j in range(a.shape[1]):\n",
    "                if a[i][j] > max:\n",
    "                    max = a[i][j]\n",
    "        return max\n",
    "    \n",
    "    if axis == 0:\n",
    "        max = [x for x in a[0]]\n",
    "        for i in range(a.shape[1]):\n",
    "            for j in range(a.shape[0]):\n",
    "                if a[j][i] > max[i]:\n",
    "                    max[i] = a[j][i]\n",
    "        return max    \n",
    "    if axis == 1:\n",
    "        max = [x for x in a[:,0]]\n",
    "        for i in range(a.shape[0]):\n",
    "            for j in range(a.shape[1]):\n",
    "                if a[i][j] > max[i]:\n",
    "                    max[i] = a[i][j]\n",
    "        return max"
   ]
  },
  {
   "cell_type": "code",
   "execution_count": 80,
   "metadata": {
    "collapsed": true,
    "deletable": true,
    "editable": true
   },
   "outputs": [],
   "source": [
    "def min_i(a,axis = 2):\n",
    "    if axis == 2:\n",
    "        min = a[0][0]\n",
    "        for i in range(a.shape[0]):\n",
    "            for j in range(a.shape[1]):\n",
    "                if a[i][j] < min:\n",
    "                    min = a[i][j]\n",
    "        return min\n",
    "    \n",
    "    if axis == 0:\n",
    "        min = [x for x in a[0]]\n",
    "        for i in range(a.shape[1]):\n",
    "            for j in range(a.shape[0]):\n",
    "                if a[j][i] < min[i]:\n",
    "                    min[i] = a[j][i]\n",
    "        return min    \n",
    "    if axis == 1:\n",
    "        min = [x for x in a[:,0]]\n",
    "        for i in range(a.shape[0]):\n",
    "            for j in range(a.shape[1]):\n",
    "                if a[i][j] < min[i]:\n",
    "                    min[i] = a[i][j]\n",
    "        return min"
   ]
  },
  {
   "cell_type": "markdown",
   "metadata": {
    "deletable": true,
    "editable": true
   },
   "source": [
    "Mean"
   ]
  },
  {
   "cell_type": "code",
   "execution_count": 103,
   "metadata": {
    "collapsed": false,
    "deletable": true,
    "editable": true
   },
   "outputs": [],
   "source": [
    "def mean_i(a,axis = 2):\n",
    "    if axis == 2:\n",
    "        sum = sum_i(a)\n",
    "        return sum/a.shape[1]\n",
    "    if axis == 0:\n",
    "        sum = [x for x in sum_i(a,axis = 0)]\n",
    "        mean = [x/a.shape[0] for x in sum]\n",
    "        return mean    \n",
    "    if axis == 1:\n",
    "        sum = [x for x in sum_i(a,axis = 1)]\n",
    "        mean = [x/a.shape[1] for x in sum]\n",
    "        return mean\n",
    "    "
   ]
  },
  {
   "cell_type": "markdown",
   "metadata": {
    "deletable": true,
    "editable": true
   },
   "source": [
    "Identity matrix"
   ]
  },
  {
   "cell_type": "code",
   "execution_count": 12,
   "metadata": {
    "collapsed": false,
    "deletable": true,
    "editable": true
   },
   "outputs": [],
   "source": [
    "def identity_i(n):\n",
    "    c = []\n",
    "    for i in list(range(n)):\n",
    "        w = []\n",
    "        for j in list(range(n)):\n",
    "            if i == j:\n",
    "                w.append(1)\n",
    "            else:\n",
    "                w.append(0)\n",
    "        c.append(w)        \n",
    "    return(c)"
   ]
  },
  {
   "cell_type": "markdown",
   "metadata": {
    "deletable": true,
    "editable": true
   },
   "source": [
    "Eye matrix"
   ]
  },
  {
   "cell_type": "code",
   "execution_count": 15,
   "metadata": {
    "collapsed": true,
    "deletable": true,
    "editable": true
   },
   "outputs": [],
   "source": [
    "def eye_i(r ,c):\n",
    "    ca = []\n",
    "    for i in list(range(r)):\n",
    "        w = []\n",
    "        for j in list(range(c)):\n",
    "            if i == j:\n",
    "                w.append(1)\n",
    "            else:\n",
    "                w.append(0)\n",
    "        ca.append(w)        \n",
    "    return(ca)"
   ]
  },
  {
   "cell_type": "markdown",
   "metadata": {
    "deletable": true,
    "editable": true
   },
   "source": [
    "Matrix Multiplication"
   ]
  },
  {
   "cell_type": "code",
   "execution_count": 26,
   "metadata": {
    "collapsed": false,
    "deletable": true,
    "editable": true
   },
   "outputs": [],
   "source": [
    "def dot_i(a, b):\n",
    "    dot_product = []\n",
    "    row_dot = []\n",
    "    d1 = a.shape\n",
    "    d2 = b.shape\n",
    "    if len(d1) < 2:\n",
    "        a = a.reshape(1, d1[0])\n",
    "    if len(d2) < 2:\n",
    "        b = b.reshape(1, d2[0])\n",
    "    row1, column1 = a.shape\n",
    "    row2, column2 = b.shape\n",
    "    result = np.zeros((row1, column2), dtype=np.int)\n",
    "    for i in range(len(a)):\n",
    "        for j in range(len(b[0])):\n",
    "            for k in range(len(b)):\n",
    "               result[i][j] += a[i][k] * b[k][j]\n",
    "    return np.array(result)"
   ]
  }
 ],
 "metadata": {
  "kernelspec": {
   "display_name": "Python 3",
   "language": "python",
   "name": "python3"
  },
  "language_info": {
   "codemirror_mode": {
    "name": "ipython",
    "version": 3
   },
   "file_extension": ".py",
   "mimetype": "text/x-python",
   "name": "python",
   "nbconvert_exporter": "python",
   "pygments_lexer": "ipython3",
   "version": "3.5.2"
  }
 },
 "nbformat": 4,
 "nbformat_minor": 2
}
