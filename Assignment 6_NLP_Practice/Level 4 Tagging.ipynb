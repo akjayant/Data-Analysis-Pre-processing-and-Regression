{
 "cells": [
  {
   "cell_type": "markdown",
   "metadata": {
    "deletable": true,
    "editable": true
   },
   "source": [
    "### Tagging"
   ]
  },
  {
   "cell_type": "markdown",
   "metadata": {
    "deletable": true,
    "editable": true
   },
   "source": [
    "So here is Mr. James Wilson who wrote about Elon Musk. Here is the following content.\n",
    "\n",
    "~~~~ \n",
    "Musk was born on June 28, 1971, in Pretoria, Gauteng, South Africa,[27] the son of Maye Musk (née Haldeman), a model and dietician from Regina, Saskatchewan, Canada;[28] and Errol Musk, a South African electromechanical engineer, pilot and sailor. He has a younger brother, Kimbal (born 1972), and a younger sister, Tosca (born 1974).[28][29][30][31] His paternal grandmother was British, and he also has Pennsylvania Dutch ancestry,[32][33] and his maternal grandfather was American, from Minnesota.[34] After his parents divorced in 1980, Musk lived mostly with his father in the suburbs of Pretoria.[32]\n",
    "\n",
    "During his childhood he had an interest in reading and often did so for hours at a time.[35]\n",
    "\n",
    "At What age did Musk got interested in computing? At age 10, he developed an interest in computing with the Commodore VIC-20.[36] He taught himself computer programming at the age of 12, sold the code for a BASIC-based video game he created called Blastar, to a magazine called PC and Office Technology, for approximately $500. [37][38] A web version of the game is available online.[37][39]\n",
    "\n",
    "Musk was severely bullied throughout his childhood, and was once hospitalized when a group of boys threw him down a flight of stairs and then beat him until he lost consciousness.[40]\n",
    "\n",
    "Musk was initially educated at private schools, attending the English-speaking Waterkloof House Preparatory School. \n",
    "\n",
    "Mr. Singh helped Musk during his initial days when he was severely bullied during his childhood.\n",
    "\n",
    "Musk later graduated from Pretoria Boys High School and moved to Canada in June 1989, just before his 18th birthday,[41] after obtaining Canadian citizenship through his Canadian-born mother.[42][43] Although at the time Musk had to register to become a Canadian citizen, Bill C-37, which came into law in April of 2009, effectively made his Canadian citizenship retroactive to his birth since he was born in the first generation abroad to a Canadian-born mother. Therefore, with the law change, he is considered to have always been a Canadian citizen by birth.\n",
    "~~~~\n"
   ]
  },
  {
   "cell_type": "markdown",
   "metadata": {
    "deletable": true,
    "editable": true
   },
   "source": [
    "### Part - 1\n",
    "\n",
    "1. Tag the given content using POS Tagger\n",
    "\n",
    "2. Default Tag the entire content with the tag which appears most number of times\n",
    "\n",
    "### Part - 2\n",
    "\n",
    "Create your own Tagger using the following rules\n",
    "\n",
    "Let's try to understand some **Parts Of Speech**\n",
    "\n",
    "1. **Possesion Noun (NN\\$)** - any word which ends with **'s** \n",
    "    > ***Jennifer’s*** new handbag matches her shoes perfectly\n",
    "2. **Gerund (VBG)** - any word which ends with **ing** \n",
    "    > ***Swimming*** in the ocean has been Sharon’s passion since she was five years old.\n",
    "3. **Simple Past (VBD)** - any word which ends with **ed**\n",
    "    > We ***crossed*** the Channel yesterday.\n",
    "4. **Modal (MD)** - any word which ends with **ould**\n",
    "    > He **should** not be late\n",
    "5. **Third Singular Present (VBZ)** - any word which ends with **es**     \n",
    "    > He **misses** her so much\n",
    "6. **Numbers (CD)** - any number integer or decimal\n",
    "    > 24.90\n",
    "7. **Plural Nouns (NNS)** - any word ending with **s**\n",
    "    > You stole my **ideas** and didn’t give me any credit."
   ]
  },
  {
   "cell_type": "code",
   "execution_count": 28,
   "metadata": {
    "collapsed": true,
    "deletable": true,
    "editable": true
   },
   "outputs": [],
   "source": [
    "content = \"\"\"Musk was born on June 28, 1971, in Pretoria, Gauteng, South Africa,[27] the son of Maye Musk (née Haldeman), a model and dietician from Regina, Saskatchewan, Canada;[28] and Errol Musk, a South African electromechanical engineer, pilot and sailor. He has a younger brother, Kimbal (born 1972), and a younger sister, Tosca (born 1974).[28][29][30][31] His paternal grandmother was British, and he also has Pennsylvania Dutch ancestry,[32][33] and his maternal grandfather was American, from Minnesota.[34] After his parents divorced in 1980, Musk lived mostly with his father in the suburbs of Pretoria.[32]\n",
    "\n",
    "During his childhood he had an interest in reading and often did so for hours at a time.[35]\n",
    "\n",
    "At What age did Musk got interested in computing? At age 10, he developed an interest in computing with the Commodore VIC-20.[36] He taught himself computer programming at the age of 12, sold the code for a BASIC-based video game he created called Blastar, to a magazine called PC and Office Technology, for approximately $500. [37][38] A web version of the game is available online.[37][39]\n",
    "\n",
    "Musk was severely bullied throughout his childhood, and was once hospitalized when a group of boys threw him down a flight of stairs and then beat him until he lost consciousness.[40]\n",
    "\n",
    "Musk was initially educated at private schools, attending the English-speaking Waterkloof House Preparatory School. \n",
    "\n",
    "Mr. Singh helped Musk during his initial days when he was severely bullied during his childhood.\n",
    "\n",
    "Musk later graduated from Pretoria Boys High School and moved to Canada in June 1989, just before his 18th birthday,[41] after obtaining Canadian citizenship through his Canadian-born mother.[42][43] Although at the time Musk had to register to become a Canadian citizen, Bill C-37, which came into law in April of 2009, effectively made his Canadian citizenship retroactive to his birth since he was born in the first generation abroad to a Canadian-born mother. Therefore, with the law change, he is considered to have always been a Canadian citizen by birth.\"\"\""
   ]
  },
  {
   "cell_type": "code",
   "execution_count": 29,
   "metadata": {
    "collapsed": false,
    "deletable": true,
    "editable": true
   },
   "outputs": [],
   "source": [
    "import nltk\n",
    "from nltk.tokenize import word_tokenize\n",
    "import re\n",
    "from nltk import FreqDist"
   ]
  },
  {
   "cell_type": "code",
   "execution_count": 30,
   "metadata": {
    "collapsed": false,
    "deletable": true,
    "editable": true
   },
   "outputs": [
    {
     "data": {
      "text/plain": [
       "'Musk was born on June 28, 1971, in Pretoria, Gauteng, South Africa,[27] the son of Maye Musk (née Haldeman), a model and dietician from Regina, Saskatchewan, Canada;[28] and Errol Musk, a South African electromechanical engineer, pilot and sailor. He has a younger brother, Kimbal (born 1972), and a younger sister, Tosca (born 1974).[28][29][30][31] His paternal grandmother was British, and he also has Pennsylvania Dutch ancestry,[32][33] and his maternal grandfather was American, from Minnesota.[34] After his parents divorced in 1980, Musk lived mostly with his father in the suburbs of Pretoria.[32]\\n\\nDuring his childhood he had an interest in reading and often did so for hours at a time.[35]\\n\\nAt What age did Musk got interested in computing? At age 10, he developed an interest in computing with the Commodore VIC-20.[36] He taught himself computer programming at the age of 12, sold the code for a BASIC-based video game he created called Blastar, to a magazine called PC and Office Technology, for approximately $500. [37][38] A web version of the game is available online.[37][39]\\n\\nMusk was severely bullied throughout his childhood, and was once hospitalized when a group of boys threw him down a flight of stairs and then beat him until he lost consciousness.[40]\\n\\nMusk was initially educated at private schools, attending the English-speaking Waterkloof House Preparatory School. \\n\\nMr. Singh helped Musk during his initial days when he was severely bullied during his childhood.\\n\\nMusk later graduated from Pretoria Boys High School and moved to Canada in June 1989, just before his 18th birthday,[41] after obtaining Canadian citizenship through his Canadian-born mother.[42][43] Although at the time Musk had to register to become a Canadian citizen, Bill C-37, which came into law in April of 2009, effectively made his Canadian citizenship retroactive to his birth since he was born in the first generation abroad to a Canadian-born mother. Therefore, with the law change, he is considered to have always been a Canadian citizen by birth.'"
      ]
     },
     "execution_count": 30,
     "metadata": {},
     "output_type": "execute_result"
    }
   ],
   "source": [
    "content "
   ]
  },
  {
   "cell_type": "code",
   "execution_count": 46,
   "metadata": {
    "collapsed": false,
    "deletable": true,
    "editable": true
   },
   "outputs": [],
   "source": [
    "words = word_tokenize(content)"
   ]
  },
  {
   "cell_type": "code",
   "execution_count": 48,
   "metadata": {
    "collapsed": false,
    "deletable": true,
    "editable": true
   },
   "outputs": [],
   "source": [
    "pos_of_words = nltk.pos_tag(words)"
   ]
  },
  {
   "cell_type": "code",
   "execution_count": 49,
   "metadata": {
    "collapsed": true,
    "deletable": true,
    "editable": true
   },
   "outputs": [],
   "source": [
    "pos_list = []"
   ]
  },
  {
   "cell_type": "code",
   "execution_count": 50,
   "metadata": {
    "collapsed": false,
    "deletable": true,
    "editable": true
   },
   "outputs": [],
   "source": [
    "for i in range(len(pos_of_words)):\n",
    "    pos_list.append(pos_of_words[i][1])"
   ]
  },
  {
   "cell_type": "code",
   "execution_count": 51,
   "metadata": {
    "collapsed": false,
    "deletable": true,
    "editable": true,
    "scrolled": true
   },
   "outputs": [
    {
     "data": {
      "text/plain": [
       "FreqDist({'$': 4,\n",
       "          '(': 3,\n",
       "          ')': 3,\n",
       "          ',': 30,\n",
       "          '.': 15,\n",
       "          ':': 1,\n",
       "          'CC': 15,\n",
       "          'CD': 31,\n",
       "          'DT': 24,\n",
       "          'IN': 47,\n",
       "          'JJ': 28,\n",
       "          'JJR': 2,\n",
       "          'NN': 56,\n",
       "          'NNP': 54,\n",
       "          'NNS': 8,\n",
       "          'PRP': 13,\n",
       "          'PRP$': 12,\n",
       "          'RB': 17,\n",
       "          'RP': 1,\n",
       "          'TO': 7,\n",
       "          'VB': 6,\n",
       "          'VBD': 33,\n",
       "          'VBG': 5,\n",
       "          'VBN': 11,\n",
       "          'VBZ': 6,\n",
       "          'WDT': 1,\n",
       "          'WP': 1,\n",
       "          'WRB': 2})"
      ]
     },
     "execution_count": 51,
     "metadata": {},
     "output_type": "execute_result"
    }
   ],
   "source": [
    "FreqDist(pos_list)"
   ]
  },
  {
   "cell_type": "markdown",
   "metadata": {
    "deletable": true,
    "editable": true
   },
   "source": [
    "## Default tagging POS"
   ]
  },
  {
   "cell_type": "markdown",
   "metadata": {
    "collapsed": true,
    "deletable": true,
    "editable": true
   },
   "source": [
    "##### most frequent tag"
   ]
  },
  {
   "cell_type": "code",
   "execution_count": 82,
   "metadata": {
    "collapsed": false,
    "deletable": true,
    "editable": true
   },
   "outputs": [
    {
     "data": {
      "text/plain": [
       "'NN'"
      ]
     },
     "execution_count": 82,
     "metadata": {},
     "output_type": "execute_result"
    }
   ],
   "source": [
    "tags = [tag for (word, tag) in pos_of_words]\n",
    "nltk.FreqDist(tags).max()"
   ]
  },
  {
   "cell_type": "code",
   "execution_count": 94,
   "metadata": {
    "collapsed": false,
    "deletable": true,
    "editable": true
   },
   "outputs": [
    {
     "data": {
      "text/plain": [
       "[('Musk', 'NN'),\n",
       " ('was', 'NN'),\n",
       " ('born', 'NN'),\n",
       " ('on', 'NN'),\n",
       " ('June', 'NN'),\n",
       " ('28', 'NN'),\n",
       " (',', 'NN'),\n",
       " ('1971', 'NN'),\n",
       " (',', 'NN'),\n",
       " ('in', 'NN'),\n",
       " ('Pretoria', 'NN'),\n",
       " (',', 'NN'),\n",
       " ('Gauteng', 'NN'),\n",
       " (',', 'NN'),\n",
       " ('South', 'NN'),\n",
       " ('Africa', 'NN'),\n",
       " (',', 'NN'),\n",
       " ('[', 'NN'),\n",
       " ('27', 'NN'),\n",
       " (']', 'NN'),\n",
       " ('the', 'NN'),\n",
       " ('son', 'NN'),\n",
       " ('of', 'NN'),\n",
       " ('Maye', 'NN'),\n",
       " ('Musk', 'NN'),\n",
       " ('(', 'NN'),\n",
       " ('née', 'NN'),\n",
       " ('Haldeman', 'NN'),\n",
       " (')', 'NN'),\n",
       " (',', 'NN'),\n",
       " ('a', 'NN'),\n",
       " ('model', 'NN'),\n",
       " ('and', 'NN'),\n",
       " ('dietician', 'NN'),\n",
       " ('from', 'NN'),\n",
       " ('Regina', 'NN'),\n",
       " (',', 'NN'),\n",
       " ('Saskatchewan', 'NN'),\n",
       " (',', 'NN'),\n",
       " ('Canada', 'NN'),\n",
       " (';', 'NN'),\n",
       " ('[', 'NN'),\n",
       " ('28', 'NN'),\n",
       " (']', 'NN'),\n",
       " ('and', 'NN'),\n",
       " ('Errol', 'NN'),\n",
       " ('Musk', 'NN'),\n",
       " (',', 'NN'),\n",
       " ('a', 'NN'),\n",
       " ('South', 'NN'),\n",
       " ('African', 'NN'),\n",
       " ('electromechanical', 'NN'),\n",
       " ('engineer', 'NN'),\n",
       " (',', 'NN'),\n",
       " ('pilot', 'NN'),\n",
       " ('and', 'NN'),\n",
       " ('sailor', 'NN'),\n",
       " ('.', 'NN'),\n",
       " ('He', 'NN'),\n",
       " ('has', 'NN'),\n",
       " ('a', 'NN'),\n",
       " ('younger', 'NN'),\n",
       " ('brother', 'NN'),\n",
       " (',', 'NN'),\n",
       " ('Kimbal', 'NN'),\n",
       " ('(', 'NN'),\n",
       " ('born', 'NN'),\n",
       " ('1972', 'NN'),\n",
       " (')', 'NN'),\n",
       " (',', 'NN'),\n",
       " ('and', 'NN'),\n",
       " ('a', 'NN'),\n",
       " ('younger', 'NN'),\n",
       " ('sister', 'NN'),\n",
       " (',', 'NN'),\n",
       " ('Tosca', 'NN'),\n",
       " ('(', 'NN'),\n",
       " ('born', 'NN'),\n",
       " ('1974', 'NN'),\n",
       " (')', 'NN'),\n",
       " ('.', 'NN'),\n",
       " ('[', 'NN'),\n",
       " ('28', 'NN'),\n",
       " (']', 'NN'),\n",
       " ('[', 'NN'),\n",
       " ('29', 'NN'),\n",
       " (']', 'NN'),\n",
       " ('[', 'NN'),\n",
       " ('30', 'NN'),\n",
       " (']', 'NN'),\n",
       " ('[', 'NN'),\n",
       " ('31', 'NN'),\n",
       " (']', 'NN'),\n",
       " ('His', 'NN'),\n",
       " ('paternal', 'NN'),\n",
       " ('grandmother', 'NN'),\n",
       " ('was', 'NN'),\n",
       " ('British', 'NN'),\n",
       " (',', 'NN'),\n",
       " ('and', 'NN'),\n",
       " ('he', 'NN'),\n",
       " ('also', 'NN'),\n",
       " ('has', 'NN'),\n",
       " ('Pennsylvania', 'NN'),\n",
       " ('Dutch', 'NN'),\n",
       " ('ancestry', 'NN'),\n",
       " (',', 'NN'),\n",
       " ('[', 'NN'),\n",
       " ('32', 'NN'),\n",
       " (']', 'NN'),\n",
       " ('[', 'NN'),\n",
       " ('33', 'NN'),\n",
       " (']', 'NN'),\n",
       " ('and', 'NN'),\n",
       " ('his', 'NN'),\n",
       " ('maternal', 'NN'),\n",
       " ('grandfather', 'NN'),\n",
       " ('was', 'NN'),\n",
       " ('American', 'NN'),\n",
       " (',', 'NN'),\n",
       " ('from', 'NN'),\n",
       " ('Minnesota', 'NN'),\n",
       " ('.', 'NN'),\n",
       " ('[', 'NN'),\n",
       " ('34', 'NN'),\n",
       " (']', 'NN'),\n",
       " ('After', 'NN'),\n",
       " ('his', 'NN'),\n",
       " ('parents', 'NN'),\n",
       " ('divorced', 'NN'),\n",
       " ('in', 'NN'),\n",
       " ('1980', 'NN'),\n",
       " (',', 'NN'),\n",
       " ('Musk', 'NN'),\n",
       " ('lived', 'NN'),\n",
       " ('mostly', 'NN'),\n",
       " ('with', 'NN'),\n",
       " ('his', 'NN'),\n",
       " ('father', 'NN'),\n",
       " ('in', 'NN'),\n",
       " ('the', 'NN'),\n",
       " ('suburbs', 'NN'),\n",
       " ('of', 'NN'),\n",
       " ('Pretoria', 'NN'),\n",
       " ('.', 'NN'),\n",
       " ('[', 'NN'),\n",
       " ('32', 'NN'),\n",
       " (']', 'NN'),\n",
       " ('During', 'NN'),\n",
       " ('his', 'NN'),\n",
       " ('childhood', 'NN'),\n",
       " ('he', 'NN'),\n",
       " ('had', 'NN'),\n",
       " ('an', 'NN'),\n",
       " ('interest', 'NN'),\n",
       " ('in', 'NN'),\n",
       " ('reading', 'NN'),\n",
       " ('and', 'NN'),\n",
       " ('often', 'NN'),\n",
       " ('did', 'NN'),\n",
       " ('so', 'NN'),\n",
       " ('for', 'NN'),\n",
       " ('hours', 'NN'),\n",
       " ('at', 'NN'),\n",
       " ('a', 'NN'),\n",
       " ('time', 'NN'),\n",
       " ('.', 'NN'),\n",
       " ('[', 'NN'),\n",
       " ('35', 'NN'),\n",
       " (']', 'NN'),\n",
       " ('At', 'NN'),\n",
       " ('What', 'NN'),\n",
       " ('age', 'NN'),\n",
       " ('did', 'NN'),\n",
       " ('Musk', 'NN'),\n",
       " ('got', 'NN'),\n",
       " ('interested', 'NN'),\n",
       " ('in', 'NN'),\n",
       " ('computing', 'NN'),\n",
       " ('?', 'NN'),\n",
       " ('At', 'NN'),\n",
       " ('age', 'NN'),\n",
       " ('10', 'NN'),\n",
       " (',', 'NN'),\n",
       " ('he', 'NN'),\n",
       " ('developed', 'NN'),\n",
       " ('an', 'NN'),\n",
       " ('interest', 'NN'),\n",
       " ('in', 'NN'),\n",
       " ('computing', 'NN'),\n",
       " ('with', 'NN'),\n",
       " ('the', 'NN'),\n",
       " ('Commodore', 'NN'),\n",
       " ('VIC-20', 'NN'),\n",
       " ('.', 'NN'),\n",
       " ('[', 'NN'),\n",
       " ('36', 'NN'),\n",
       " (']', 'NN'),\n",
       " ('He', 'NN'),\n",
       " ('taught', 'NN'),\n",
       " ('himself', 'NN'),\n",
       " ('computer', 'NN'),\n",
       " ('programming', 'NN'),\n",
       " ('at', 'NN'),\n",
       " ('the', 'NN'),\n",
       " ('age', 'NN'),\n",
       " ('of', 'NN'),\n",
       " ('12', 'NN'),\n",
       " (',', 'NN'),\n",
       " ('sold', 'NN'),\n",
       " ('the', 'NN'),\n",
       " ('code', 'NN'),\n",
       " ('for', 'NN'),\n",
       " ('a', 'NN'),\n",
       " ('BASIC-based', 'NN'),\n",
       " ('video', 'NN'),\n",
       " ('game', 'NN'),\n",
       " ('he', 'NN'),\n",
       " ('created', 'NN'),\n",
       " ('called', 'NN'),\n",
       " ('Blastar', 'NN'),\n",
       " (',', 'NN'),\n",
       " ('to', 'NN'),\n",
       " ('a', 'NN'),\n",
       " ('magazine', 'NN'),\n",
       " ('called', 'NN'),\n",
       " ('PC', 'NN'),\n",
       " ('and', 'NN'),\n",
       " ('Office', 'NN'),\n",
       " ('Technology', 'NN'),\n",
       " (',', 'NN'),\n",
       " ('for', 'NN'),\n",
       " ('approximately', 'NN'),\n",
       " ('$', 'NN'),\n",
       " ('500', 'NN'),\n",
       " ('.', 'NN'),\n",
       " ('[', 'NN'),\n",
       " ('37', 'NN'),\n",
       " (']', 'NN'),\n",
       " ('[', 'NN'),\n",
       " ('38', 'NN'),\n",
       " (']', 'NN'),\n",
       " ('A', 'NN'),\n",
       " ('web', 'NN'),\n",
       " ('version', 'NN'),\n",
       " ('of', 'NN'),\n",
       " ('the', 'NN'),\n",
       " ('game', 'NN'),\n",
       " ('is', 'NN'),\n",
       " ('available', 'NN'),\n",
       " ('online', 'NN'),\n",
       " ('.', 'NN'),\n",
       " ('[', 'NN'),\n",
       " ('37', 'NN'),\n",
       " (']', 'NN'),\n",
       " ('[', 'NN'),\n",
       " ('39', 'NN'),\n",
       " (']', 'NN'),\n",
       " ('Musk', 'NN'),\n",
       " ('was', 'NN'),\n",
       " ('severely', 'NN'),\n",
       " ('bullied', 'NN'),\n",
       " ('throughout', 'NN'),\n",
       " ('his', 'NN'),\n",
       " ('childhood', 'NN'),\n",
       " (',', 'NN'),\n",
       " ('and', 'NN'),\n",
       " ('was', 'NN'),\n",
       " ('once', 'NN'),\n",
       " ('hospitalized', 'NN'),\n",
       " ('when', 'NN'),\n",
       " ('a', 'NN'),\n",
       " ('group', 'NN'),\n",
       " ('of', 'NN'),\n",
       " ('boys', 'NN'),\n",
       " ('threw', 'NN'),\n",
       " ('him', 'NN'),\n",
       " ('down', 'NN'),\n",
       " ('a', 'NN'),\n",
       " ('flight', 'NN'),\n",
       " ('of', 'NN'),\n",
       " ('stairs', 'NN'),\n",
       " ('and', 'NN'),\n",
       " ('then', 'NN'),\n",
       " ('beat', 'NN'),\n",
       " ('him', 'NN'),\n",
       " ('until', 'NN'),\n",
       " ('he', 'NN'),\n",
       " ('lost', 'NN'),\n",
       " ('consciousness', 'NN'),\n",
       " ('.', 'NN'),\n",
       " ('[', 'NN'),\n",
       " ('40', 'NN'),\n",
       " (']', 'NN'),\n",
       " ('Musk', 'NN'),\n",
       " ('was', 'NN'),\n",
       " ('initially', 'NN'),\n",
       " ('educated', 'NN'),\n",
       " ('at', 'NN'),\n",
       " ('private', 'NN'),\n",
       " ('schools', 'NN'),\n",
       " (',', 'NN'),\n",
       " ('attending', 'NN'),\n",
       " ('the', 'NN'),\n",
       " ('English-speaking', 'NN'),\n",
       " ('Waterkloof', 'NN'),\n",
       " ('House', 'NN'),\n",
       " ('Preparatory', 'NN'),\n",
       " ('School', 'NN'),\n",
       " ('.', 'NN'),\n",
       " ('Mr.', 'NN'),\n",
       " ('Singh', 'NN'),\n",
       " ('helped', 'NN'),\n",
       " ('Musk', 'NN'),\n",
       " ('during', 'NN'),\n",
       " ('his', 'NN'),\n",
       " ('initial', 'NN'),\n",
       " ('days', 'NN'),\n",
       " ('when', 'NN'),\n",
       " ('he', 'NN'),\n",
       " ('was', 'NN'),\n",
       " ('severely', 'NN'),\n",
       " ('bullied', 'NN'),\n",
       " ('during', 'NN'),\n",
       " ('his', 'NN'),\n",
       " ('childhood', 'NN'),\n",
       " ('.', 'NN'),\n",
       " ('Musk', 'NN'),\n",
       " ('later', 'NN'),\n",
       " ('graduated', 'NN'),\n",
       " ('from', 'NN'),\n",
       " ('Pretoria', 'NN'),\n",
       " ('Boys', 'NN'),\n",
       " ('High', 'NN'),\n",
       " ('School', 'NN'),\n",
       " ('and', 'NN'),\n",
       " ('moved', 'NN'),\n",
       " ('to', 'NN'),\n",
       " ('Canada', 'NN'),\n",
       " ('in', 'NN'),\n",
       " ('June', 'NN'),\n",
       " ('1989', 'NN'),\n",
       " (',', 'NN'),\n",
       " ('just', 'NN'),\n",
       " ('before', 'NN'),\n",
       " ('his', 'NN'),\n",
       " ('18th', 'NN'),\n",
       " ('birthday', 'NN'),\n",
       " (',', 'NN'),\n",
       " ('[', 'NN'),\n",
       " ('41', 'NN'),\n",
       " (']', 'NN'),\n",
       " ('after', 'NN'),\n",
       " ('obtaining', 'NN'),\n",
       " ('Canadian', 'NN'),\n",
       " ('citizenship', 'NN'),\n",
       " ('through', 'NN'),\n",
       " ('his', 'NN'),\n",
       " ('Canadian-born', 'NN'),\n",
       " ('mother', 'NN'),\n",
       " ('.', 'NN'),\n",
       " ('[', 'NN'),\n",
       " ('42', 'NN'),\n",
       " (']', 'NN'),\n",
       " ('[', 'NN'),\n",
       " ('43', 'NN'),\n",
       " (']', 'NN'),\n",
       " ('Although', 'NN'),\n",
       " ('at', 'NN'),\n",
       " ('the', 'NN'),\n",
       " ('time', 'NN'),\n",
       " ('Musk', 'NN'),\n",
       " ('had', 'NN'),\n",
       " ('to', 'NN'),\n",
       " ('register', 'NN'),\n",
       " ('to', 'NN'),\n",
       " ('become', 'NN'),\n",
       " ('a', 'NN'),\n",
       " ('Canadian', 'NN'),\n",
       " ('citizen', 'NN'),\n",
       " (',', 'NN'),\n",
       " ('Bill', 'NN'),\n",
       " ('C-37', 'NN'),\n",
       " (',', 'NN'),\n",
       " ('which', 'NN'),\n",
       " ('came', 'NN'),\n",
       " ('into', 'NN'),\n",
       " ('law', 'NN'),\n",
       " ('in', 'NN'),\n",
       " ('April', 'NN'),\n",
       " ('of', 'NN'),\n",
       " ('2009', 'NN'),\n",
       " (',', 'NN'),\n",
       " ('effectively', 'NN'),\n",
       " ('made', 'NN'),\n",
       " ('his', 'NN'),\n",
       " ('Canadian', 'NN'),\n",
       " ('citizenship', 'NN'),\n",
       " ('retroactive', 'NN'),\n",
       " ('to', 'NN'),\n",
       " ('his', 'NN'),\n",
       " ('birth', 'NN'),\n",
       " ('since', 'NN'),\n",
       " ('he', 'NN'),\n",
       " ('was', 'NN'),\n",
       " ('born', 'NN'),\n",
       " ('in', 'NN'),\n",
       " ('the', 'NN'),\n",
       " ('first', 'NN'),\n",
       " ('generation', 'NN'),\n",
       " ('abroad', 'NN'),\n",
       " ('to', 'NN'),\n",
       " ('a', 'NN'),\n",
       " ('Canadian-born', 'NN'),\n",
       " ('mother', 'NN'),\n",
       " ('.', 'NN'),\n",
       " ('Therefore', 'NN'),\n",
       " (',', 'NN'),\n",
       " ('with', 'NN'),\n",
       " ('the', 'NN'),\n",
       " ('law', 'NN'),\n",
       " ('change', 'NN'),\n",
       " (',', 'NN'),\n",
       " ('he', 'NN'),\n",
       " ('is', 'NN'),\n",
       " ('considered', 'NN'),\n",
       " ('to', 'NN'),\n",
       " ('have', 'NN'),\n",
       " ('always', 'NN'),\n",
       " ('been', 'NN'),\n",
       " ('a', 'NN'),\n",
       " ('Canadian', 'NN'),\n",
       " ('citizen', 'NN'),\n",
       " ('by', 'NN'),\n",
       " ('birth', 'NN'),\n",
       " ('.', 'NN')]"
      ]
     },
     "execution_count": 94,
     "metadata": {},
     "output_type": "execute_result"
    }
   ],
   "source": [
    "default_tagger = nltk.DefaultTagger('NN')\n",
    "default_tagger.tag(words)"
   ]
  },
  {
   "cell_type": "markdown",
   "metadata": {
    "collapsed": true,
    "deletable": true,
    "editable": true
   },
   "source": [
    "## Explicitly tagging POS "
   ]
  },
  {
   "cell_type": "code",
   "execution_count": 95,
   "metadata": {
    "collapsed": false,
    "deletable": true,
    "editable": true
   },
   "outputs": [],
   "source": [
    "patterns = [(r'.*\\'s','NN$'),      \n",
    "            (r'.*ing$','VBG'),\n",
    "            (r'.*ed$','VBD'),\n",
    "            (r'.*ould$','MD'),\n",
    "            (r'.*es$','VBZ'),\n",
    "            (r'-?\\d*\\.?\\d+$','CD'),\n",
    "            (r'.*s$','NNS'),\n",
    "            (r'.*','NN')          \n",
    "           ]"
   ]
  },
  {
   "cell_type": "code",
   "execution_count": 96,
   "metadata": {
    "collapsed": false,
    "deletable": true,
    "editable": true
   },
   "outputs": [],
   "source": [
    "regexp_tagger = nltk.RegexpTagger(patterns)\n",
    "new_pos = regexp_tagger.tag(words)"
   ]
  },
  {
   "cell_type": "code",
   "execution_count": 97,
   "metadata": {
    "collapsed": true,
    "deletable": true,
    "editable": true
   },
   "outputs": [],
   "source": [
    "new_pos_list = []"
   ]
  },
  {
   "cell_type": "code",
   "execution_count": 98,
   "metadata": {
    "collapsed": false,
    "deletable": true,
    "editable": true
   },
   "outputs": [],
   "source": [
    "for i in range(len(new_pos)):\n",
    "    new_pos_list.append(new_pos[i][1])"
   ]
  },
  {
   "cell_type": "code",
   "execution_count": 99,
   "metadata": {
    "collapsed": false,
    "deletable": true,
    "editable": true
   },
   "outputs": [
    {
     "data": {
      "text/plain": [
       "FreqDist({'CD': 30, 'NN': 346, 'NNS': 34, 'VBD': 16, 'VBG': 10})"
      ]
     },
     "execution_count": 99,
     "metadata": {},
     "output_type": "execute_result"
    }
   ],
   "source": [
    "FreqDist(new_pos_list)"
   ]
  }
 ],
 "metadata": {
  "kernelspec": {
   "display_name": "Python 3",
   "language": "python",
   "name": "python3"
  },
  "language_info": {
   "codemirror_mode": {
    "name": "ipython",
    "version": 3
   },
   "file_extension": ".py",
   "mimetype": "text/x-python",
   "name": "python",
   "nbconvert_exporter": "python",
   "pygments_lexer": "ipython3",
   "version": "3.5.2"
  }
 },
 "nbformat": 4,
 "nbformat_minor": 2
}
