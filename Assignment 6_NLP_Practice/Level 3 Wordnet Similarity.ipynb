{
 "cells": [
  {
   "cell_type": "markdown",
   "metadata": {
    "deletable": true,
    "editable": true
   },
   "source": [
    "## Wordnet Similarity"
   ]
  },
  {
   "cell_type": "markdown",
   "metadata": {
    "deletable": true,
    "editable": true
   },
   "source": [
    "### Part - 1\n",
    "   \n",
    "    1. Find the top 5 occuring words(ignoring the stop words) and then find the words most similar to them. Use the extract given below.\n",
    "    \n",
    "    2. For any given word visualize how two words are similar"
   ]
  },
  {
   "cell_type": "markdown",
   "metadata": {
    "deletable": true,
    "editable": true
   },
   "source": [
    "~~~~\n",
    "The Supreme Court ruled last week in the case of Fane Lozman vs the City of Riviera Beach, Florida. They decided that Lozman’s 60-foot, two-story, motorless, rudderless floating home was not a boat or a vessel, and hence should not have been seized under maritime law and destroyed by the city.\n",
    "\n",
    "With the line between house and boat a little bit clearer, reader Steve asked us to clarify something else: “What defines a boat, versus a ship?”\n",
    "\n",
    "One of the quickest ways to reveal yourself as a landlubber is to refer to a ship as a boat, but there’s no absolute distinction between the two, and even experienced mariners rely on local custom and usage to differentiate them. \n",
    "\n",
    "Back in the Age of Sail, a ship was pretty well defined as a vessel with three or more square rigged masts. As different methods of power generation replaced wind and sail, the ships of old became more specifically known as “sailing ships,” and the usage of ship broadened to cover a wide, ill-defined variety of vessels. \n",
    "\n",
    "One thing that sets a ship apart from a boat is size. According the U.S. Naval Institute, a boat, generally speaking, is small enough to be carried aboard a larger vessel, and a vessel large enough to carry a smaller one is a ship. Or, as Steve says his Navy Lieutenant father put it to him, “You can put a boat on a ship, but you can’t put a ship on a boat.”\n",
    "\n",
    "Now, this Naval convention is a good rule of thumb most of the time, but there are a few exceptions, among both naval and civilian vessels. Some yachts, ferries, tug boats, fishing boats, police boats, etc. can carry small lifeboats or dinghies, but they usually don’t graduate to ship status because of that. On the other hand, a large container ship or the USS Cole can be carried aboard an even bigger ship without getting demoted to a boat. \n",
    "\n",
    "The U.S. Navy seems to want to have it both ways with their submarines. One component of each vessel’s official name is USS—that is, United States Ship—but seamen, the Naval Institute says, usually refer to submarines in general as boats, regardless of size. \n",
    "~~~~\n"
   ]
  },
  {
   "cell_type": "code",
   "execution_count": 10,
   "metadata": {
    "collapsed": true,
    "deletable": true,
    "editable": true
   },
   "outputs": [],
   "source": [
    "from nltk.corpus import wordnet,stopwords\n",
    "from nltk.probability import FreqDist\n",
    "from nltk.tokenize import word_tokenize\n",
    "from nltk.stem import WordNetLemmatizer\n",
    "import re\n",
    "import numpy as np\n",
    "import networkx as nx\n",
    "import matplotlib.pyplot as plt"
   ]
  },
  {
   "cell_type": "code",
   "execution_count": 11,
   "metadata": {
    "collapsed": true,
    "deletable": true,
    "editable": true
   },
   "outputs": [],
   "source": [
    "content = \"\"\"The Supreme Court ruled last week in the case of Fane Lozman vs the City of Riviera Beach, Florida. They decided that Lozman’s 60-foot, two-story, motorless, rudderless floating home was not a boat or a vessel, and hence should not have been seized under maritime law and destroyed by the city.\n",
    "\n",
    "With the line between house and boat a little bit clearer, reader Steve asked us to clarify something else: “What defines a boat, versus a ship?”\n",
    "\n",
    "One of the quickest ways to reveal yourself as a landlubber is to refer to a ship as a boat, but there’s no absolute distinction between the two, and even experienced mariners rely on local custom and usage to differentiate them. \n",
    "\n",
    "Back in the Age of Sail, a ship was pretty well defined as a vessel with three or more square rigged masts. As different methods of power generation replaced wind and sail, the ships of old became more specifically known as “sailing ships,” and the usage of ship broadened to cover a wide, ill-defined variety of vessels. \n",
    "\n",
    "One thing that sets a ship apart from a boat is size. According the U.S. Naval Institute, a boat, generally speaking, is small enough to be carried aboard a larger vessel, and a vessel large enough to carry a smaller one is a ship. Or, as Steve says his Navy Lieutenant father put it to him, “You can put a boat on a ship, but you can’t put a ship on a boat.”\n",
    "\n",
    "Now, this Naval convention is a good rule of thumb most of the time, but there are a few exceptions, among both naval and civilian vessels. Some yachts, ferries, tug boats, fishing boats, police boats, etc. can carry small lifeboats or dinghies, but they usually don’t graduate to ship status because of that. On the other hand, a large container ship or the USS Cole can be carried aboard an even bigger ship without getting demoted to a boat. \n",
    "\n",
    "The U.S. Navy seems to want to have it both ways with their submarines. One component of each vessel’s official name is USS—that is, United States Ship—but seamen, the Naval Institute says, usually refer to submarines in general as boats, regardless of size.\"\"\""
   ]
  },
  {
   "cell_type": "code",
   "execution_count": 12,
   "metadata": {
    "collapsed": false,
    "deletable": true,
    "editable": true
   },
   "outputs": [],
   "source": [
    "content = re.sub(r'\\,|\\.|\\:|\\;|\\\"|\\?' , \"\" , content)"
   ]
  },
  {
   "cell_type": "code",
   "execution_count": 13,
   "metadata": {
    "collapsed": false,
    "deletable": true,
    "editable": true
   },
   "outputs": [],
   "source": [
    "content = content.lower()"
   ]
  },
  {
   "cell_type": "code",
   "execution_count": 14,
   "metadata": {
    "collapsed": false,
    "deletable": true,
    "editable": true,
    "scrolled": false
   },
   "outputs": [
    {
     "data": {
      "text/plain": [
       "'the supreme court ruled last week in the case of fane lozman vs the city of riviera beach florida they decided that lozman’s 60-foot two-story motorless rudderless floating home was not a boat or a vessel and hence should not have been seized under maritime law and destroyed by the city\\n\\nwith the line between house and boat a little bit clearer reader steve asked us to clarify something else “what defines a boat versus a ship”\\n\\none of the quickest ways to reveal yourself as a landlubber is to refer to a ship as a boat but there’s no absolute distinction between the two and even experienced mariners rely on local custom and usage to differentiate them \\n\\nback in the age of sail a ship was pretty well defined as a vessel with three or more square rigged masts as different methods of power generation replaced wind and sail the ships of old became more specifically known as “sailing ships” and the usage of ship broadened to cover a wide ill-defined variety of vessels \\n\\none thing that sets a ship apart from a boat is size according the us naval institute a boat generally speaking is small enough to be carried aboard a larger vessel and a vessel large enough to carry a smaller one is a ship or as steve says his navy lieutenant father put it to him “you can put a boat on a ship but you can’t put a ship on a boat”\\n\\nnow this naval convention is a good rule of thumb most of the time but there are a few exceptions among both naval and civilian vessels some yachts ferries tug boats fishing boats police boats etc can carry small lifeboats or dinghies but they usually don’t graduate to ship status because of that on the other hand a large container ship or the uss cole can be carried aboard an even bigger ship without getting demoted to a boat \\n\\nthe us navy seems to want to have it both ways with their submarines one component of each vessel’s official name is uss—that is united states ship—but seamen the naval institute says usually refer to submarines in general as boats regardless of size'"
      ]
     },
     "execution_count": 14,
     "metadata": {},
     "output_type": "execute_result"
    }
   ],
   "source": [
    "content"
   ]
  },
  {
   "cell_type": "code",
   "execution_count": 15,
   "metadata": {
    "collapsed": false,
    "deletable": true,
    "editable": true
   },
   "outputs": [],
   "source": [
    "wl = WordNetLemmatizer()"
   ]
  },
  {
   "cell_type": "code",
   "execution_count": 16,
   "metadata": {
    "collapsed": false,
    "deletable": true,
    "editable": true
   },
   "outputs": [],
   "source": [
    "words = word_tokenize(content)\n",
    "for i in range(len(words)):\n",
    "    words[i] = wl.lemmatize(words[i])"
   ]
  },
  {
   "cell_type": "code",
   "execution_count": 17,
   "metadata": {
    "collapsed": true,
    "deletable": true,
    "editable": true
   },
   "outputs": [],
   "source": [
    "filtered_words = []"
   ]
  },
  {
   "cell_type": "code",
   "execution_count": 18,
   "metadata": {
    "collapsed": false,
    "deletable": true,
    "editable": true
   },
   "outputs": [],
   "source": [
    "stopwords1 = set(stopwords.words(\"english\"))"
   ]
  },
  {
   "cell_type": "code",
   "execution_count": 19,
   "metadata": {
    "collapsed": false,
    "deletable": true,
    "editable": true
   },
   "outputs": [],
   "source": [
    "for i in words:\n",
    "    if i not in stopwords1:\n",
    "        filtered_words.append(i)\n",
    "    "
   ]
  },
  {
   "cell_type": "code",
   "execution_count": 20,
   "metadata": {
    "collapsed": true,
    "deletable": true,
    "editable": true
   },
   "outputs": [],
   "source": [
    "### top 5 frequent words"
   ]
  },
  {
   "cell_type": "code",
   "execution_count": 21,
   "metadata": {
    "collapsed": false,
    "deletable": true,
    "editable": true
   },
   "outputs": [],
   "source": [
    "freq_words = FreqDist(filtered_words).most_common(5)"
   ]
  },
  {
   "cell_type": "code",
   "execution_count": 22,
   "metadata": {
    "collapsed": false,
    "deletable": true,
    "editable": true
   },
   "outputs": [
    {
     "data": {
      "text/plain": [
       "[('boat', 12), ('ship', 11), ('vessel', 6), ('naval', 4), ('one', 4)]"
      ]
     },
     "execution_count": 22,
     "metadata": {},
     "output_type": "execute_result"
    }
   ],
   "source": [
    "freq_words"
   ]
  },
  {
   "cell_type": "code",
   "execution_count": 23,
   "metadata": {
    "collapsed": true,
    "deletable": true,
    "editable": true
   },
   "outputs": [],
   "source": [
    "f1 = []"
   ]
  },
  {
   "cell_type": "code",
   "execution_count": 24,
   "metadata": {
    "collapsed": false,
    "deletable": true,
    "editable": true
   },
   "outputs": [],
   "source": [
    "for c in range(len(freq_words)):\n",
    "    f1.append(freq_words[c][0])"
   ]
  },
  {
   "cell_type": "code",
   "execution_count": 25,
   "metadata": {
    "collapsed": false,
    "deletable": true,
    "editable": true
   },
   "outputs": [],
   "source": [
    "filtered_words = set(filtered_words)"
   ]
  },
  {
   "cell_type": "markdown",
   "metadata": {
    "collapsed": true,
    "deletable": true,
    "editable": true
   },
   "source": [
    "### Removing 5 most frequent words"
   ]
  },
  {
   "cell_type": "code",
   "execution_count": 26,
   "metadata": {
    "collapsed": true,
    "deletable": true,
    "editable": true
   },
   "outputs": [],
   "source": [
    "filtered_words1 = []"
   ]
  },
  {
   "cell_type": "code",
   "execution_count": 27,
   "metadata": {
    "collapsed": false,
    "deletable": true,
    "editable": true
   },
   "outputs": [],
   "source": [
    "for words in filtered_words:\n",
    "    if words not in f1:\n",
    "        filtered_words1.append(words)\n",
    "    "
   ]
  },
  {
   "cell_type": "markdown",
   "metadata": {
    "collapsed": true,
    "deletable": true,
    "editable": true
   },
   "source": [
    "### Making synsets of article words"
   ]
  },
  {
   "cell_type": "code",
   "execution_count": 28,
   "metadata": {
    "collapsed": true,
    "deletable": true,
    "editable": true
   },
   "outputs": [],
   "source": [
    "w2 = []"
   ]
  },
  {
   "cell_type": "code",
   "execution_count": 29,
   "metadata": {
    "collapsed": true,
    "deletable": true,
    "editable": true
   },
   "outputs": [],
   "source": [
    "w2_dict = {}"
   ]
  },
  {
   "cell_type": "code",
   "execution_count": 30,
   "metadata": {
    "collapsed": false,
    "deletable": true,
    "editable": true
   },
   "outputs": [],
   "source": [
    "for w in filtered_words1:\n",
    "    tmp = wordnet.synsets(w)\n",
    "    if(len(tmp)>0):\n",
    "        w2.append(tmp[0])\n",
    "        w2_dict.update({tmp[0]:w})"
   ]
  },
  {
   "cell_type": "code",
   "execution_count": 31,
   "metadata": {
    "collapsed": false,
    "deletable": true,
    "editable": true
   },
   "outputs": [
    {
     "data": {
      "text/plain": [
       "{Synset('aboard.r.01'): 'aboard',\n",
       " Synset('absolute.n.01'): 'absolute',\n",
       " Synset('acquiring.n.01'): 'getting',\n",
       " Synset('adrift.s.01'): 'rudderless',\n",
       " Synset('age.n.01'): 'age',\n",
       " Synset('alumnus.n.01'): 'graduate',\n",
       " Synset('apart.s.01'): 'apart',\n",
       " Synset('ask.v.01'): 'asked',\n",
       " Synset('assortment.n.01'): 'variety',\n",
       " Synset('back.n.01'): 'back',\n",
       " Synset('beach.n.01'): 'beach',\n",
       " Synset('become.v.01'): 'became',\n",
       " Synset('bigger.s.01'): 'larger',\n",
       " Synset('broaden.v.01'): 'broadened',\n",
       " Synset('by_and_large.r.01'): 'generally',\n",
       " Synset('careless.s.03'): 'regardless',\n",
       " Synset('carry.n.01'): 'carry',\n",
       " Synset('case.n.01'): 'case',\n",
       " Synset('city.n.01'): 'city',\n",
       " Synset('civilian.n.01'): 'civilian',\n",
       " Synset('clarify.v.01'): 'clarify',\n",
       " Synset('clear.a.01'): 'clearer',\n",
       " Synset('coevals.n.01'): 'generation',\n",
       " Synset('component.n.01'): 'component',\n",
       " Synset('container.n.01'): 'container',\n",
       " Synset('convention.n.01'): 'convention',\n",
       " Synset('court.n.01'): 'court',\n",
       " Synset('custom.n.01'): 'custom',\n",
       " Synset('decide.v.01'): 'decided',\n",
       " Synset('demote.v.01'): 'demoted',\n",
       " Synset('destroy.v.01'): 'destroyed',\n",
       " Synset('different.a.01'): 'different',\n",
       " Synset('differentiation.n.01'): 'distinction',\n",
       " Synset('dinghy.n.01'): 'dinghy',\n",
       " Synset('distinguish.v.01'): 'differentiate',\n",
       " Synset('enough.n.01'): 'enough',\n",
       " Synset('evening.n.01'): 'even',\n",
       " Synset('exception.n.01'): 'exception',\n",
       " Synset('experience.v.01'): 'experienced',\n",
       " Synset('father.n.01'): 'father',\n",
       " Synset('ferry.n.01'): 'ferry',\n",
       " Synset('fishing.n.01'): 'fishing',\n",
       " Synset('floating.n.01'): 'floating',\n",
       " Synset('florida.n.01'): 'florida',\n",
       " Synset('general.n.01'): 'general',\n",
       " Synset('good.n.01'): 'good',\n",
       " Synset('govern.v.03'): 'ruled',\n",
       " Synset('hand.n.01'): 'hand',\n",
       " Synset('harmonize.v.01'): 'according',\n",
       " Synset('home.n.01'): 'home',\n",
       " Synset('house.n.01'): 'house',\n",
       " Synset('ill-defined.a.01'): 'ill-defined',\n",
       " Synset('institute.n.01'): 'institute',\n",
       " Synset('kale.n.02'): 'cole',\n",
       " Synset('know.v.01'): 'known',\n",
       " Synset('landlubber.n.01'): 'landlubber',\n",
       " Synset('large.n.01'): 'large',\n",
       " Synset('law.n.01'): 'law',\n",
       " Synset('lieutenant.n.01'): 'lieutenant',\n",
       " Synset('lifeboat.n.01'): 'lifeboat',\n",
       " Synset('line.n.01'): 'line',\n",
       " Synset('little.n.01'): 'little',\n",
       " Synset('local.n.01'): 'local',\n",
       " Synset('look.v.02'): 'seems',\n",
       " Synset('manner.n.01'): 'way',\n",
       " Synset('mariner.n.01'): 'mariner',\n",
       " Synset('mast.n.01'): 'mast',\n",
       " Synset('mention.v.01'): 'refer',\n",
       " Synset('method.n.01'): 'method',\n",
       " Synset('name.n.01'): 'name',\n",
       " Synset('nautical.a.01'): 'maritime',\n",
       " Synset('navy.n.01'): 'navy',\n",
       " Synset('normally.r.01'): 'usually',\n",
       " Synset('official.n.01'): 'official',\n",
       " Synset('old.n.01'): 'old',\n",
       " Synset('police.n.01'): 'police',\n",
       " Synset('power.n.01'): 'power',\n",
       " Synset('pretty.s.01'): 'pretty',\n",
       " Synset('privation.n.01'): 'want',\n",
       " Synset('put_option.n.02'): 'put',\n",
       " Synset('quick.s.01'): 'quickest',\n",
       " Synset('reader.n.01'): 'reader',\n",
       " Synset('replace.v.01'): 'replaced',\n",
       " Synset('rig.v.01'): 'rigged',\n",
       " Synset('riviera.n.01'): 'riviera',\n",
       " Synset('rule.n.01'): 'rule',\n",
       " Synset('sail.n.01'): 'sail',\n",
       " Synset('say.n.01'): 'say',\n",
       " Synset('screen.n.04'): 'cover',\n",
       " Synset('seize.v.01'): 'seized',\n",
       " Synset('set.n.01'): 'set',\n",
       " Synset('size.n.01'): 'size',\n",
       " Synset('small.n.01'): 'small',\n",
       " Synset('smaller.s.01'): 'smaller',\n",
       " Synset('speaking.n.01'): 'speaking',\n",
       " Synset('specifically.r.01'): 'specifically',\n",
       " Synset('specify.v.03'): 'defines',\n",
       " Synset('spot.n.10'): 'bit',\n",
       " Synset('square.n.01'): 'square',\n",
       " Synset('state.n.01'): 'state',\n",
       " Synset('status.n.01'): 'status',\n",
       " Synset('stopping_point.n.01'): 'last',\n",
       " Synset('submarine.n.01'): 'submarine',\n",
       " Synset('supreme.s.01'): 'supreme',\n",
       " Synset('therefore.r.01'): 'hence',\n",
       " Synset('thing.n.01'): 'thing',\n",
       " Synset('three.n.01'): 'three',\n",
       " Synset('thumb.n.01'): 'thumb',\n",
       " Synset('time.n.01'): 'time',\n",
       " Synset('transport.v.02'): 'carried',\n",
       " Synset('trust.v.01'): 'rely',\n",
       " Synset('tug.n.01'): 'tug',\n",
       " Synset('two.n.01'): 'two',\n",
       " Synset('uncover.v.01'): 'reveal',\n",
       " Synset('unite.v.01'): 'united',\n",
       " Synset('united_states.n.01'): 'us',\n",
       " Synset('unmotorized.a.01'): 'motorless',\n",
       " Synset('uracil.n.01'): 'u',\n",
       " Synset('use.n.01'): 'usage',\n",
       " Synset('volt.n.01'): 'v',\n",
       " Synset('washington.n.02'): 'wa',\n",
       " Synset('week.n.01'): 'week',\n",
       " Synset('well.n.01'): 'well',\n",
       " Synset('wide.a.01'): 'wide',\n",
       " Synset('wind.n.01'): 'wind',\n",
       " Synset('yacht.n.01'): 'yacht'}"
      ]
     },
     "execution_count": 31,
     "metadata": {},
     "output_type": "execute_result"
    }
   ],
   "source": [
    "w2_dict"
   ]
  },
  {
   "cell_type": "markdown",
   "metadata": {
    "collapsed": true,
    "deletable": true,
    "editable": true
   },
   "source": [
    "### Making synsets of frequent words"
   ]
  },
  {
   "cell_type": "code",
   "execution_count": 32,
   "metadata": {
    "collapsed": true,
    "deletable": true,
    "editable": true
   },
   "outputs": [],
   "source": [
    "w1 = []"
   ]
  },
  {
   "cell_type": "code",
   "execution_count": 33,
   "metadata": {
    "collapsed": false,
    "deletable": true,
    "editable": true
   },
   "outputs": [
    {
     "data": {
      "text/plain": [
       "['boat', 'ship', 'vessel', 'naval', 'one']"
      ]
     },
     "execution_count": 33,
     "metadata": {},
     "output_type": "execute_result"
    }
   ],
   "source": [
    "f1"
   ]
  },
  {
   "cell_type": "code",
   "execution_count": 34,
   "metadata": {
    "collapsed": true,
    "deletable": true,
    "editable": true
   },
   "outputs": [],
   "source": [
    "for w in f1:\n",
    "    tmp = wordnet.synsets(w)\n",
    "    if(len(tmp)>0):\n",
    "        w1.append(tmp[0])"
   ]
  },
  {
   "cell_type": "code",
   "execution_count": 35,
   "metadata": {
    "collapsed": false,
    "deletable": true,
    "editable": true
   },
   "outputs": [],
   "source": [
    "max = np.zeros((len(w1)))"
   ]
  },
  {
   "cell_type": "code",
   "execution_count": 36,
   "metadata": {
    "collapsed": false,
    "deletable": true,
    "editable": true
   },
   "outputs": [],
   "source": [
    "closest_word = ['<NOTHING>','<NOTHING>','<NOTHING>','<NOTHING>','<NOTHING>']"
   ]
  },
  {
   "cell_type": "code",
   "execution_count": 37,
   "metadata": {
    "collapsed": false,
    "deletable": true,
    "editable": true,
    "scrolled": true
   },
   "outputs": [],
   "source": [
    "for i in range(len(w1)):\n",
    "    for j in range(len(w2)):\n",
    "        try : \n",
    "            if(max[i] < w1[i].wup_similarity(w2[j])):\n",
    "                max[i] = w1[i].wup_similarity(w2[j])\n",
    "                closest_word[i] = w2_dict[w2[j]]\n",
    "        except Exception :\n",
    "                c=0         "
   ]
  },
  {
   "cell_type": "markdown",
   "metadata": {
    "collapsed": true,
    "deletable": true,
    "editable": true
   },
   "source": [
    "### most frequent words"
   ]
  },
  {
   "cell_type": "code",
   "execution_count": 38,
   "metadata": {
    "collapsed": false,
    "deletable": true,
    "editable": true
   },
   "outputs": [
    {
     "data": {
      "text/plain": [
       "['boat', 'ship', 'vessel', 'naval', 'one']"
      ]
     },
     "execution_count": 38,
     "metadata": {},
     "output_type": "execute_result"
    }
   ],
   "source": [
    "f1"
   ]
  },
  {
   "cell_type": "markdown",
   "metadata": {
    "collapsed": true,
    "deletable": true,
    "editable": true
   },
   "source": [
    "### Their respective closest word in article"
   ]
  },
  {
   "cell_type": "code",
   "execution_count": 39,
   "metadata": {
    "collapsed": false,
    "deletable": true,
    "editable": true,
    "scrolled": true
   },
   "outputs": [
    {
     "data": {
      "text/plain": [
       "['ferry', 'yacht', 'small', '<NOTHING>', 'two']"
      ]
     },
     "execution_count": 39,
     "metadata": {},
     "output_type": "execute_result"
    }
   ],
   "source": [
    "closest_word"
   ]
  },
  {
   "cell_type": "markdown",
   "metadata": {
    "collapsed": true,
    "deletable": true,
    "editable": true
   },
   "source": [
    "### extent of similarity"
   ]
  },
  {
   "cell_type": "code",
   "execution_count": 40,
   "metadata": {
    "collapsed": false,
    "deletable": true,
    "editable": true
   },
   "outputs": [
    {
     "data": {
      "text/plain": [
       "array([ 0.95652174,  0.90909091,  0.71428571,  0.        ,  0.875     ])"
      ]
     },
     "execution_count": 40,
     "metadata": {},
     "output_type": "execute_result"
    }
   ],
   "source": [
    "max"
   ]
  },
  {
   "cell_type": "markdown",
   "metadata": {
    "collapsed": true,
    "deletable": true,
    "editable": true
   },
   "source": [
    "## Visualization"
   ]
  },
  {
   "cell_type": "markdown",
   "metadata": {},
   "source": [
    "#### Real word in article"
   ]
  },
  {
   "cell_type": "code",
   "execution_count": 45,
   "metadata": {
    "collapsed": false
   },
   "outputs": [
    {
     "name": "stdout",
     "output_type": "stream",
     "text": [
      "[('boat.n.01', {}), ('conveyance.n.03', {}), ('artifact.n.01', {}), ('craft.n.02', {}), ('object.n.01', {}), ('vehicle.n.01', {}), ('vessel.n.02', {}), ('physical_entity.n.01', {}), ('whole.n.02', {}), ('instrumentality.n.03', {}), ('entity.n.01', {})]\n"
     ]
    },
    {
     "name": "stderr",
     "output_type": "stream",
     "text": [
      "/home/user/stackRoute/lib/python3.5/site-packages/networkx/drawing/nx_pylab.py:126: MatplotlibDeprecationWarning: pyplot.hold is deprecated.\n",
      "    Future behavior will be consistent with the long-time default:\n",
      "    plot commands add elements without first clearing the\n",
      "    Axes and/or Figure.\n",
      "  b = plt.ishold()\n",
      "/home/user/stackRoute/lib/python3.5/site-packages/networkx/drawing/nx_pylab.py:138: MatplotlibDeprecationWarning: pyplot.hold is deprecated.\n",
      "    Future behavior will be consistent with the long-time default:\n",
      "    plot commands add elements without first clearing the\n",
      "    Axes and/or Figure.\n",
      "  plt.hold(b)\n",
      "/home/user/stackRoute/lib/python3.5/site-packages/matplotlib/__init__.py:917: UserWarning: axes.hold is deprecated. Please remove it from your matplotlibrc and/or style files.\n",
      "  warnings.warn(self.msg_depr_set % key)\n",
      "/home/user/stackRoute/lib/python3.5/site-packages/matplotlib/rcsetup.py:152: UserWarning: axes.hold is deprecated, will be removed in 3.0\n",
      "  warnings.warn(\"axes.hold is deprecated, will be removed in 3.0\")\n"
     ]
    },
    {
     "data": {
      "image/png": "[encoded data removed]",
      "text/plain": [
       "<matplotlib.figure.Figure at 0x7f0b4c1f4438>"
      ]
     },
     "metadata": {},
     "output_type": "display_data"
    }
   ],
   "source": [
    "a = wordnet.synsets(f1[0])\n",
    "G1 = nx.Graph()\n",
    "prev = None\n",
    "for h in reversed(a[0].hypernym_paths()[0]):\n",
    "    G1.add_node(h.name())\n",
    "    if prev != None:\n",
    "        G1.add_edge(prev, h.name())\n",
    "    prev = h.name()\n",
    "\n",
    "print (G1.nodes(data=True))\n",
    "\n",
    "nx.draw(G1, nx.spectral_layout(G1), width=2, with_labels=True, hold=False)\n",
    "plt.show()"
   ]
  },
  {
   "cell_type": "markdown",
   "metadata": {},
   "source": [
    "#### its predicted closest word "
   ]
  },
  {
   "cell_type": "code",
   "execution_count": 43,
   "metadata": {
    "collapsed": false
   },
   "outputs": [
    {
     "name": "stdout",
     "output_type": "stream",
     "text": [
      "[('conveyance.n.03', {}), ('artifact.n.01', {}), ('ferry.n.01', {}), ('vehicle.n.01', {}), ('object.n.01', {}), ('entity.n.01', {}), ('boat.n.01', {}), ('vessel.n.02', {}), ('craft.n.02', {}), ('physical_entity.n.01', {}), ('whole.n.02', {}), ('instrumentality.n.03', {})]\n"
     ]
    },
    {
     "name": "stderr",
     "output_type": "stream",
     "text": [
      "/home/user/stackRoute/lib/python3.5/site-packages/networkx/drawing/nx_pylab.py:126: MatplotlibDeprecationWarning: pyplot.hold is deprecated.\n",
      "    Future behavior will be consistent with the long-time default:\n",
      "    plot commands add elements without first clearing the\n",
      "    Axes and/or Figure.\n",
      "  b = plt.ishold()\n",
      "/home/user/stackRoute/lib/python3.5/site-packages/networkx/drawing/nx_pylab.py:138: MatplotlibDeprecationWarning: pyplot.hold is deprecated.\n",
      "    Future behavior will be consistent with the long-time default:\n",
      "    plot commands add elements without first clearing the\n",
      "    Axes and/or Figure.\n",
      "  plt.hold(b)\n",
      "/home/user/stackRoute/lib/python3.5/site-packages/matplotlib/__init__.py:917: UserWarning: axes.hold is deprecated. Please remove it from your matplotlibrc and/or style files.\n",
      "  warnings.warn(self.msg_depr_set % key)\n",
      "/home/user/stackRoute/lib/python3.5/site-packages/matplotlib/rcsetup.py:152: UserWarning: axes.hold is deprecated, will be removed in 3.0\n",
      "  warnings.warn(\"axes.hold is deprecated, will be removed in 3.0\")\n"
     ]
    },
    {
     "data": {
      "image/png": "[encoded data removed]",
      "text/plain": [
       "<matplotlib.figure.Figure at 0x7f0b4e25f400>"
      ]
     },
     "metadata": {},
     "output_type": "display_data"
    }
   ],
   "source": [
    "G2 = nx.Graph()\n",
    "a = wordnet.synsets(closest_word[0])\n",
    "\n",
    "prev = None\n",
    "for h in reversed(a[0].hypernym_paths()[0]):\n",
    "    G2.add_node(h.name())\n",
    "    if prev != None:\n",
    "        G2.add_edge(prev, h.name())\n",
    "    prev = h.name()\n",
    "\n",
    "print (G2.nodes(data=True))\n",
    "\n",
    "nx.draw(G2, nx.spectral_layout(G2), width=2, with_labels=True, hold=False)\n",
    "plt.show()"
   ]
  },
  {
   "cell_type": "code",
   "execution_count": null,
   "metadata": {
    "collapsed": true
   },
   "outputs": [],
   "source": []
  }
 ],
 "metadata": {
  "kernelspec": {
   "display_name": "Python 3",
   "language": "python",
   "name": "python3"
  },
  "language_info": {
   "codemirror_mode": {
    "name": "ipython",
    "version": 3
   },
   "file_extension": ".py",
   "mimetype": "text/x-python",
   "name": "python",
   "nbconvert_exporter": "python",
   "pygments_lexer": "ipython3",
   "version": "3.5.2"
  }
 },
 "nbformat": 4,
 "nbformat_minor": 2
}
