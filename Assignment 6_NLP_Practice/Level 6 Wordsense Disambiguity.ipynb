{
 "cells": [
  {
   "cell_type": "markdown",
   "metadata": {
    "deletable": true,
    "editable": true
   },
   "source": [
    "### Word Sense Disambiguity"
   ]
  },
  {
   "cell_type": "markdown",
   "metadata": {
    "deletable": true,
    "editable": true
   },
   "source": [
    "Given the following sentences:\n",
    "\n",
    "    The agent will book the to the show for the entire family.\n",
    "    But you can generally book tickets online.\n",
    "    When you book tickets online they provide you with a book of stamps\n",
    "    \n",
    "If you could see the above sentences the word book is used in different context. In first two sentences the word book(verb) refers to the meaning 'reserve' while in the second portion of the third sentence book(noun) refers to a physical entity."
   ]
  },
  {
   "cell_type": "markdown",
   "metadata": {
    "deletable": true,
    "editable": true
   },
   "source": [
    "## Part - 1\n",
    "\n",
    "    Use the Lesk Module to find the similar words of the word *book* using the above sentences. Record your observations.\n",
    "    \n",
    "## Part - 2\n",
    "\n",
    "Tag sentences using Brill Tagger.\n",
    "\n",
    "### Brill Tagger\n",
    "\n",
    "The BrillTagger class is a **transformation-based tagger**. The BrillTagger class uses a series\n",
    "of rules to correct the results of an initial tagger. These rules are scored based on how many\n",
    "errors they correct minus the number of new errors they produce.\n",
    "\n",
    "The idea is simple Brill Tagger tries to correct the mistake made by the inital tagger. Brill tagger inputs an initial tagger and the templates which autmatically tells to create new rules based on the Training Set.\n",
    "\n",
    "**Recommended Steps:**\n",
    "\n",
    "1. Initially tag the sentence using POS Tagger. Then observe the POS tags for the word book in different context\n",
    "2. Then create a tagged_sentence using the POS Tagger correcting it with the mistakes it made.\n",
    "3. Now create a Brill Tagger using an initial tagger (POS) and pass templates(rules) to it.\n",
    "4. Train the Brill Tagger using the Tagged Sentence\n",
    "5. Test the Brill Tagger on the following sentences:\n",
    "       > \"I bought this book from Kerala\"\n",
    "       > \"He will book tickets to Kerala\"\n",
    "       \n",
    "## Part - 3\n",
    "\n",
    "    Perform Part-1 again but passing the POS tags produced by the Brill Tagger.\n",
    "    "
   ]
  },
  {
   "cell_type": "markdown",
   "metadata": {
    "deletable": true,
    "editable": true
   },
   "source": []
  },
  {
   "cell_type": "code",
   "execution_count": 391,
   "metadata": {
    "collapsed": false
   },
   "outputs": [],
   "source": [
    "import re\n",
    "import nltk\n",
    "from nltk.tokenize import word_tokenize, sent_tokenize\n",
    "from nltk.probability import FreqDist\n",
    "from nltk.corpus import wordnet\n",
    "from nltk.wsd import lesk\n",
    "from nltk.tag.brill import *\n",
    "import nltk.tag.brill_trainer as bt\n",
    "from nltk.corpus import brown\n"
   ]
  },
  {
   "cell_type": "code",
   "execution_count": 392,
   "metadata": {
    "collapsed": true,
    "deletable": true,
    "editable": true
   },
   "outputs": [],
   "source": [
    "content = \"\"\"\n",
    "The agent will book tickets to the show for the entire family.\n",
    "But you can generally book tickets online.\n",
    "When you book tickets online they provide you with a book of stamps\n",
    "\"\"\""
   ]
  },
  {
   "cell_type": "code",
   "execution_count": 393,
   "metadata": {
    "collapsed": true
   },
   "outputs": [],
   "source": [
    "sentences = sent_tokenize(content)"
   ]
  },
  {
   "cell_type": "code",
   "execution_count": 394,
   "metadata": {
    "collapsed": true
   },
   "outputs": [],
   "source": [
    "words_by_sentence = [word_tokenize(sentences[i]) for i in range(len(sentences))]"
   ]
  },
  {
   "cell_type": "code",
   "execution_count": 395,
   "metadata": {
    "collapsed": false,
    "scrolled": true
   },
   "outputs": [
    {
     "data": {
      "text/plain": [
       "[['The',\n",
       "  'agent',\n",
       "  'will',\n",
       "  'book',\n",
       "  'tickets',\n",
       "  'to',\n",
       "  'the',\n",
       "  'show',\n",
       "  'for',\n",
       "  'the',\n",
       "  'entire',\n",
       "  'family',\n",
       "  '.'],\n",
       " ['But', 'you', 'can', 'generally', 'book', 'tickets', 'online', '.'],\n",
       " ['When',\n",
       "  'you',\n",
       "  'book',\n",
       "  'tickets',\n",
       "  'online',\n",
       "  'they',\n",
       "  'provide',\n",
       "  'you',\n",
       "  'with',\n",
       "  'a',\n",
       "  'book',\n",
       "  'of',\n",
       "  'stamps']]"
      ]
     },
     "execution_count": 395,
     "metadata": {},
     "output_type": "execute_result"
    }
   ],
   "source": [
    "words_by_sentence"
   ]
  },
  {
   "cell_type": "markdown",
   "metadata": {},
   "source": [
    "### Simply using lesk module "
   ]
  },
  {
   "cell_type": "code",
   "execution_count": 396,
   "metadata": {
    "collapsed": true
   },
   "outputs": [],
   "source": [
    "b_syn = wn.synsets('book')"
   ]
  },
  {
   "cell_type": "code",
   "execution_count": 397,
   "metadata": {
    "collapsed": false
   },
   "outputs": [
    {
     "name": "stdout",
     "output_type": "stream",
     "text": [
      "Synset('koran.n.01')\n",
      "Synset('script.n.01')\n",
      "Synset('book.n.11')\n"
     ]
    }
   ],
   "source": [
    "for i in range(len(words_by_sentence)):\n",
    "    print(lesk(words_by_sentence[i], 'book', synsets = b_syn))"
   ]
  },
  {
   "cell_type": "code",
   "execution_count": 398,
   "metadata": {
    "collapsed": true
   },
   "outputs": [],
   "source": [
    "words_by_sentence_tagged = [nltk.pos_tag(words_by_sentence[i]) for i in range(len(words_by_sentence))]"
   ]
  },
  {
   "cell_type": "code",
   "execution_count": 399,
   "metadata": {
    "collapsed": false,
    "scrolled": true
   },
   "outputs": [
    {
     "data": {
      "text/plain": [
       "[[('The', 'DT'),\n",
       "  ('agent', 'NN'),\n",
       "  ('will', 'MD'),\n",
       "  ('book', 'NN'),\n",
       "  ('tickets', 'NNS'),\n",
       "  ('to', 'TO'),\n",
       "  ('the', 'DT'),\n",
       "  ('show', 'NN'),\n",
       "  ('for', 'IN'),\n",
       "  ('the', 'DT'),\n",
       "  ('entire', 'JJ'),\n",
       "  ('family', 'NN'),\n",
       "  ('.', '.')],\n",
       " [('But', 'CC'),\n",
       "  ('you', 'PRP'),\n",
       "  ('can', 'MD'),\n",
       "  ('generally', 'RB'),\n",
       "  ('book', 'NN'),\n",
       "  ('tickets', 'NNS'),\n",
       "  ('online', 'VBP'),\n",
       "  ('.', '.')],\n",
       " [('When', 'WRB'),\n",
       "  ('you', 'PRP'),\n",
       "  ('book', 'NN'),\n",
       "  ('tickets', 'NNS'),\n",
       "  ('online', 'VBP'),\n",
       "  ('they', 'PRP'),\n",
       "  ('provide', 'VBP'),\n",
       "  ('you', 'PRP'),\n",
       "  ('with', 'IN'),\n",
       "  ('a', 'DT'),\n",
       "  ('book', 'NN'),\n",
       "  ('of', 'IN'),\n",
       "  ('stamps', 'NNS')]]"
      ]
     },
     "execution_count": 399,
     "metadata": {},
     "output_type": "execute_result"
    }
   ],
   "source": [
    "words_by_sentence_tagged"
   ]
  },
  {
   "cell_type": "code",
   "execution_count": 400,
   "metadata": {
    "collapsed": true
   },
   "outputs": [],
   "source": [
    "## correction"
   ]
  },
  {
   "cell_type": "code",
   "execution_count": 401,
   "metadata": {
    "collapsed": true
   },
   "outputs": [],
   "source": [
    "words_pos_corrected = words_by_sentence_tagged"
   ]
  },
  {
   "cell_type": "code",
   "execution_count": 402,
   "metadata": {
    "collapsed": false
   },
   "outputs": [],
   "source": [
    "words_pos_corrected[0][3] = ('book','VB')\n",
    "words_pos_corrected[1][5] = ('book','VB')\n",
    "words_pos_corrected[2][2] = ('book','VB')"
   ]
  },
  {
   "cell_type": "code",
   "execution_count": 403,
   "metadata": {
    "collapsed": false,
    "scrolled": true
   },
   "outputs": [
    {
     "data": {
      "text/plain": [
       "[[('The', 'DT'),\n",
       "  ('agent', 'NN'),\n",
       "  ('will', 'MD'),\n",
       "  ('book', 'VB'),\n",
       "  ('tickets', 'NNS'),\n",
       "  ('to', 'TO'),\n",
       "  ('the', 'DT'),\n",
       "  ('show', 'NN'),\n",
       "  ('for', 'IN'),\n",
       "  ('the', 'DT'),\n",
       "  ('entire', 'JJ'),\n",
       "  ('family', 'NN'),\n",
       "  ('.', '.')],\n",
       " [('But', 'CC'),\n",
       "  ('you', 'PRP'),\n",
       "  ('can', 'MD'),\n",
       "  ('generally', 'RB'),\n",
       "  ('book', 'NN'),\n",
       "  ('book', 'VB'),\n",
       "  ('online', 'VBP'),\n",
       "  ('.', '.')],\n",
       " [('When', 'WRB'),\n",
       "  ('you', 'PRP'),\n",
       "  ('book', 'VB'),\n",
       "  ('tickets', 'NNS'),\n",
       "  ('online', 'VBP'),\n",
       "  ('they', 'PRP'),\n",
       "  ('provide', 'VBP'),\n",
       "  ('you', 'PRP'),\n",
       "  ('with', 'IN'),\n",
       "  ('a', 'DT'),\n",
       "  ('book', 'NN'),\n",
       "  ('of', 'IN'),\n",
       "  ('stamps', 'NNS')]]"
      ]
     },
     "execution_count": 403,
     "metadata": {},
     "output_type": "execute_result"
    }
   ],
   "source": [
    "words_pos_corrected"
   ]
  },
  {
   "cell_type": "code",
   "execution_count": null,
   "metadata": {
    "collapsed": true
   },
   "outputs": [],
   "source": []
  },
  {
   "cell_type": "markdown",
   "metadata": {},
   "source": [
    "### brill Tagger"
   ]
  },
  {
   "cell_type": "code",
   "execution_count": 404,
   "metadata": {
    "collapsed": true
   },
   "outputs": [],
   "source": [
    "test_1= \"I bought this book from Kerala\"\n",
    "test_2 = \"He will book tickets to Kerala\""
   ]
  },
  {
   "cell_type": "code",
   "execution_count": 405,
   "metadata": {
    "collapsed": false
   },
   "outputs": [],
   "source": [
    "test_2_tok = word_tokenize(test_2)\n",
    "test_1_tok = word_tokenize(test_1)"
   ]
  },
  {
   "cell_type": "code",
   "execution_count": 406,
   "metadata": {
    "collapsed": true
   },
   "outputs": [],
   "source": [
    "tagger_path = '/home/user/nltk_data/taggers/maxent_treebank_pos_tagger/english.pickle'\n",
    "new_tagger = nltk.data.load(tagger_path)\n",
    "model = {'book':'VB'}\n",
    "tagger = nltk.tag.TrigramTagger(model = model, backoff = new_tagger)"
   ]
  },
  {
   "cell_type": "code",
   "execution_count": 407,
   "metadata": {
    "collapsed": false
   },
   "outputs": [
    {
     "name": "stdout",
     "output_type": "stream",
     "text": [
      "[('I', 'PRP'), ('bought', 'VBD'), ('this', 'DT'), ('book', 'NN'), ('from', 'IN'), ('Kerala', 'NNP')]\n",
      "[('He', 'PRP'), ('will', 'MD'), ('book', 'VB'), ('tickets', 'NNS'), ('to', 'TO'), ('Kerala', 'NNP')]\n"
     ]
    }
   ],
   "source": [
    "Template._cleartemplates()\n",
    "templates = fntbl37()\n",
    "tagged_sentences = words_by_sentence_tagged\n",
    "tagger = bt.BrillTaggerTrainer(default_tagger, templates)\n",
    "tagger = tagger.train(tagged_sentences)\n",
    "print(tagger.tag(test_1_tok))\n",
    "print(tagger.tag(test_2_tok))"
   ]
  },
  {
   "cell_type": "code",
   "execution_count": 408,
   "metadata": {
    "collapsed": true
   },
   "outputs": [],
   "source": [
    "w1 = words_by_sentence"
   ]
  },
  {
   "cell_type": "code",
   "execution_count": null,
   "metadata": {
    "collapsed": true
   },
   "outputs": [],
   "source": []
  },
  {
   "cell_type": "markdown",
   "metadata": {},
   "source": [
    "### Re-testing again after Brill Tagging"
   ]
  },
  {
   "cell_type": "code",
   "execution_count": 409,
   "metadata": {
    "collapsed": true
   },
   "outputs": [],
   "source": [
    "#words_by_sentence = w1   ##reset"
   ]
  },
  {
   "cell_type": "code",
   "execution_count": 410,
   "metadata": {
    "collapsed": false
   },
   "outputs": [],
   "source": [
    "#words_by_sentence.append(word_tokenize(\"can you please book\"))"
   ]
  },
  {
   "cell_type": "code",
   "execution_count": 411,
   "metadata": {
    "collapsed": false
   },
   "outputs": [
    {
     "name": "stdout",
     "output_type": "stream",
     "text": [
      "In sentence -> ['The', 'agent', 'will', 'book', 'tickets', 'to', 'the', 'show', 'for', 'the', 'entire', 'family', '.'] >>\n",
      "Synset('reserve.v.04')\n",
      "In sentence -> ['But', 'you', 'can', 'generally', 'book', 'tickets', 'online', '.'] >>\n",
      "Synset('reserve.v.04')\n",
      "In sentence -> ['When', 'you', 'book', 'tickets', 'online', 'they', 'provide', 'you', 'with', 'a', 'book', 'of', 'stamps'] >>\n",
      "Synset('book.v.04')\n",
      "Synset('book.n.11')\n"
     ]
    }
   ],
   "source": [
    "for i in range(len(words_by_sentence)):\n",
    "    a = ((tagger.tag(words_by_sentence[i])))\n",
    "    l = [a[j][1].lower()[0] for j in range(len(a)) if a[j][0] == 'book']\n",
    "    print(\"In sentence -> \"+str(words_by_sentence[i])+\" >>\")\n",
    "    if(len(l)==1):\n",
    "        pos = l[0]\n",
    "        print(lesk(words_by_sentence[i],'book',pos = pos))\n",
    "    else :\n",
    "        for j in  range(len(l)):\n",
    "            pos = l[j]\n",
    "            print(lesk(words_by_sentence[i],'book',pos = pos))\n",
    "    "
   ]
  },
  {
   "cell_type": "code",
   "execution_count": null,
   "metadata": {
    "collapsed": true
   },
   "outputs": [],
   "source": []
  },
  {
   "cell_type": "code",
   "execution_count": null,
   "metadata": {
    "collapsed": true
   },
   "outputs": [],
   "source": []
  }
 ],
 "metadata": {
  "kernelspec": {
   "display_name": "Python 3",
   "language": "python",
   "name": "python3"
  },
  "language_info": {
   "codemirror_mode": {
    "name": "ipython",
    "version": 3
   },
   "file_extension": ".py",
   "mimetype": "text/x-python",
   "name": "python",
   "nbconvert_exporter": "python",
   "pygments_lexer": "ipython3",
   "version": "3.5.2"
  }
 },
 "nbformat": 4,
 "nbformat_minor": 2
}
