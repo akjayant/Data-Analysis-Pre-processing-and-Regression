{
 "cells": [
  {
   "cell_type": "markdown",
   "metadata": {
    "deletable": true,
    "editable": true
   },
   "source": [
    "## UK Government Content Writing Criteria\n",
    "\n",
    "UK Government has a certain checklist for the content writers. They want the content writers to be more specific in the details they want to convey to the users. UK Government basically believes that when you write more people understand less. So they came up with a simple solution.\n",
    "\n",
    "1. There can be no more than 15 Sentences.\n",
    "2. And each sentence should have less than 15 words.\n",
    "3. And each word should be less than 15 words.\n",
    "\n",
    "Help the UK Government writing a detector which checks for the above criteria. \n",
    "\n",
    "Write three seperate detectors so that the content writer knows where exactly did he make the mistake"
   ]
  },
  {
   "cell_type": "markdown",
   "metadata": {
    "deletable": true,
    "editable": true
   },
   "source": [
    "So here is Mr. James Wilson who wrote about Elon Musk. Here is the following content.\n",
    "\n",
    "~~~~ \n",
    "Musk was born on June 28, 1971, in Pretoria, Gauteng, South Africa,[27] the son of Maye Musk (née Haldeman), a model and dietician from Regina, Saskatchewan, Canada;[28] and Errol Musk, a South African electromechanical engineer, pilot and sailor. He has a younger brother, Kimbal (born 1972), and a younger sister, Tosca (born 1974).[28][29][30][31] His paternal grandmother was British, and he also has Pennsylvania Dutch ancestry,[32][33] and his maternal grandfather was American, from Minnesota.[34] After his parents divorced in 1980, Musk lived mostly with his father in the suburbs of Pretoria.[32]\n",
    "\n",
    "During his childhood he had an interest in reading and often did so for hours at a time.[35]\n",
    "\n",
    "At What age did Musk got interested in computing? At age 10, he developed an interest in computing with the Commodore VIC-20.[36] He taught himself computer programming at the age of 12, sold the code for a BASIC-based video game he created called Blastar, to a magazine called PC and Office Technology, for approximately $500. [37][38] A web version of the game is available online.[37][39]\n",
    "\n",
    "Musk was severely bullied throughout his childhood, and was once hospitalized when a group of boys threw him down a flight of stairs and then beat him until he lost consciousness.[40]\n",
    "\n",
    "Musk was initially educated at private schools, attending the English-speaking Waterkloof House Preparatory School. \n",
    "\n",
    "Mr. Singh helped Musk during his initial days when he was severely bullied during his childhood.\n",
    "\n",
    "Musk later graduated from Pretoria Boys High School and moved to Canada in June 1989, just before his 18th birthday,[41] after obtaining Canadian citizenship through his Canadian-born mother.[42][43] Although at the time Musk had to register to become a Canadian citizen, Bill C-37, which came into law in April of 2009, effectively made his Canadian citizenship retroactive to his birth since he was born in the first generation abroad to a Canadian-born mother. Therefore, with the law change, he is considered to have always been a Canadian citizen by birth.\n",
    "~~~~\n"
   ]
  },
  {
   "cell_type": "code",
   "execution_count": 2,
   "metadata": {
    "collapsed": true,
    "deletable": true,
    "editable": true
   },
   "outputs": [],
   "source": [
    "import nltk\n",
    "from nltk.tokenize import sent_tokenize\n",
    "from nltk.tokenize import word_tokenize\n",
    "import re\n"
   ]
  },
  {
   "cell_type": "code",
   "execution_count": 3,
   "metadata": {
    "collapsed": false,
    "deletable": true,
    "editable": true
   },
   "outputs": [],
   "source": [
    "content = \"\"\"Musk was born on June 28, 1971, in Pretoria, Gauteng, South Africa,[27] the son of Maye Musk (née Haldeman), a model and dietician from Regina, Saskatchewan, Canada;[28] and Errol Musk, a South African electromechanical engineer, pilot and sailor. He has a younger brother, Kimbal (born 1972), and a younger sister, Tosca (born 1974).[28][29][30][31] His paternal grandmother was British, and he also has Pennsylvania Dutch ancestry,[32][33] and his maternal grandfather was American, from Minnesota.[34] After his parents divorced in 1980, Musk lived mostly with his father in the suburbs of Pretoria.[32]\n",
    "\n",
    "During his childhood he had an interest in reading and often did so for hours at a time.[35]\n",
    "\n",
    "At What age did Musk got interested in computing? At age 10, he developed an interest in computing with the Commodore VIC-20.[36] He taught himself computer programming at the age of 12, sold the code for a BASIC-based video game he created called Blastar, to a magazine called PC and Office Technology, for approximately $500. [37][38] A web version of the game is available online.[37][39]\n",
    "\n",
    "Musk was severely bullied throughout his childhood, and was once hospitalized when a group of boys threw him down a flight of stairs and then beat him until he lost consciousness.[40]\n",
    "\n",
    "Musk was initially educated at private schools, attending the English-speaking Waterkloof House Preparatory School. \n",
    "\n",
    "Mr. Singh helped Musk during his initial days when he was severely bullied during his childhood.\n",
    "\n",
    "Musk later graduated from Pretoria Boys High School and moved to Canada in June 1989, just before his 18th birthday,[41] after obtaining Canadian citizenship through his Canadian-born mother.[42][43] Although at the time Musk had to register to become a Canadian citizen, Bill C-37, which came into law in April of 2009, effectively made his Canadian citizenship retroactive to his birth since he was born in the first generation abroad to a Canadian-born mother. Therefore, with the law change, he is considered to have always been a Canadian citizen by birth.\"\"\""
   ]
  },
  {
   "cell_type": "code",
   "execution_count": 4,
   "metadata": {
    "collapsed": true,
    "deletable": true,
    "editable": true
   },
   "outputs": [],
   "source": [
    "# Function to detect first criteria"
   ]
  },
  {
   "cell_type": "code",
   "execution_count": 5,
   "metadata": {
    "collapsed": true,
    "deletable": true,
    "editable": true
   },
   "outputs": [],
   "source": [
    "s_t = sent_tokenize(content)"
   ]
  },
  {
   "cell_type": "code",
   "execution_count": 6,
   "metadata": {
    "collapsed": false,
    "deletable": true,
    "editable": true
   },
   "outputs": [
    {
     "name": "stdout",
     "output_type": "stream",
     "text": [
      "CRITERIA 1 FULFILLED\n"
     ]
    }
   ],
   "source": [
    "if (len(s_t)<=15):\n",
    "    print(\"CRITERIA 1 FULFILLED\")\n",
    "else:\n",
    "    print(\"CRITERIA 2 FAILED\")"
   ]
  },
  {
   "cell_type": "code",
   "execution_count": 7,
   "metadata": {
    "collapsed": true,
    "deletable": true,
    "editable": true
   },
   "outputs": [],
   "source": [
    "# Function to detect second criteria"
   ]
  },
  {
   "cell_type": "code",
   "execution_count": 8,
   "metadata": {
    "collapsed": false,
    "deletable": true,
    "editable": true
   },
   "outputs": [],
   "source": [
    "#content2 = re.sub(\"^[\",\"\",content)"
   ]
  },
  {
   "cell_type": "code",
   "execution_count": 56,
   "metadata": {
    "collapsed": false,
    "deletable": true,
    "editable": true,
    "scrolled": true
   },
   "outputs": [
    {
     "name": "stdout",
     "output_type": "stream",
     "text": [
      "CRITERIA 2 FAILED------\n",
      "\n",
      "13  sentences out of range\n",
      "['Musk was born on June 28, 1971, in Pretoria, Gauteng, South Africa,[27] the son of Maye Musk (née Haldeman), a model and dietician from Regina, Saskatchewan, Canada;[28] and Errol Musk, a South African electromechanical engineer, pilot and sailor.', 'He has a younger brother, Kimbal (born 1972), and a younger sister, Tosca (born 1974).', '[28][29][30][31] His paternal grandmother was British, and he also has Pennsylvania Dutch ancestry,[32][33] and his maternal grandfather was American, from Minnesota.', '[34] After his parents divorced in 1980, Musk lived mostly with his father in the suburbs of Pretoria.', '[32]\\n\\nDuring his childhood he had an interest in reading and often did so for hours at a time.', '[35]\\n\\nAt What age did Musk got interested in computing?', 'At age 10, he developed an interest in computing with the Commodore VIC-20.', '[36] He taught himself computer programming at the age of 12, sold the code for a BASIC-based video game he created called Blastar, to a magazine called PC and Office Technology, for approximately $500.', '[37][38] A web version of the game is available online.', '[37][39]\\n\\nMusk was severely bullied throughout his childhood, and was once hospitalized when a group of boys threw him down a flight of stairs and then beat him until he lost consciousness.', '[40]\\n\\nMusk was initially educated at private schools, attending the English-speaking Waterkloof House Preparatory School.', 'Mr. Singh helped Musk during his initial days when he was severely bullied during his childhood.', 'Musk later graduated from Pretoria Boys High School and moved to Canada in June 1989, just before his 18th birthday,[41] after obtaining Canadian citizenship through his Canadian-born mother.', '[42][43] Although at the time Musk had to register to become a Canadian citizen, Bill C-37, which came into law in April of 2009, effectively made his Canadian citizenship retroactive to his birth since he was born in the first generation abroad to a Canadian-born mother.', 'Therefore, with the law change, he is considered to have always been a Canadian citizen by birth.']\n"
     ]
    }
   ],
   "source": [
    "w_t = []\n",
    "c = 0\n",
    "for i in range(15):\n",
    "    w_t.extend(word_tokenize(str(s_t[i])))\n",
    "    if(len(word_tokenize(str(s_t[i]))) <= 15):\n",
    "        c=c+1\n",
    " \n",
    "        \n",
    "if (c == 15):\n",
    "    print(\"CRITERIA 2 FULFILLED\")\n",
    "else:\n",
    "    print(\"CRITERIA 2 FAILED------\\n\")\n",
    "    print(15-c,\" sentences out of range\")\n",
    "    \n",
    "print(s_t)\n",
    "        "
   ]
  },
  {
   "cell_type": "code",
   "execution_count": 50,
   "metadata": {
    "collapsed": false
   },
   "outputs": [
    {
     "name": "stdout",
     "output_type": "stream",
     "text": [
      "436\n"
     ]
    }
   ],
   "source": [
    "print(len(w_t))"
   ]
  },
  {
   "cell_type": "code",
   "execution_count": 35,
   "metadata": {
    "collapsed": true,
    "deletable": true,
    "editable": true
   },
   "outputs": [],
   "source": [
    "# Function to detect third criteria"
   ]
  },
  {
   "cell_type": "code",
   "execution_count": 37,
   "metadata": {
    "collapsed": false,
    "deletable": true,
    "editable": true
   },
   "outputs": [
    {
     "name": "stdout",
     "output_type": "stream",
     "text": [
      "##CRITERIA FAILURE AT ---> electromechanical\n",
      "##CRITERIA FAILURE AT ---> English-speaking\n",
      "CRITERIA 3 FAILED\n"
     ]
    }
   ],
   "source": [
    "p = 0\n",
    "for i in range(len(w_t)):\n",
    "    if(len(w_t[i]) <= 15):\n",
    "        p=p+1\n",
    "    else:\n",
    "        print(\"##CRITERIA FAILURE AT --->\",w_t[i])\n",
    "if (p==len(w_t)):\n",
    "    print(\"CRITERIA 3 FULFILLED\")\n",
    "else:\n",
    "    print(\"CRITERIA 3 FAILED\")"
   ]
  },
  {
   "cell_type": "markdown",
   "metadata": {
    "collapsed": true,
    "deletable": true,
    "editable": true
   },
   "source": [
    "## Edit"
   ]
  },
  {
   "cell_type": "code",
   "execution_count": 47,
   "metadata": {
    "collapsed": true,
    "deletable": true,
    "editable": true
   },
   "outputs": [],
   "source": [
    "\n",
    "content1 = \"\"\"Musk was born on June 28, 1971, in Pretoria, Gauteng, South Africa,[27] the son of Maye Musk (née Haldeman), a model and dietician from Regina, Saskatchewan, Canada;[28] and Errol Musk, a South African electromechanical engineer, pilot and sailor. He has a younger brother, Kimbal (born 1972), and a younger sister, Tosca (born 1974).[28][29][30][31] His paternal grandmother was British, and he also has Pennsylvania Dutch ancestry,[32][33] and his maternal grandfather was American, from Minnesota.[34] After his parents divorced in 1980, Musk lived mostly with his father in the suburbs of Pretoria.[32]\n",
    "\n",
    "During his childhood he had an interest in reading and often did so for hours at a time.[35]\n",
    "\n",
    "At What age did Musk got interested in computing?At age 10, he developed an interest in computing with the Commodore VIC-20.[36] He taught himself computer programming at the age of 12, sold the code for a BASIC-based video game he created called Blastar, to a magazine called PC and Office Technology, for approximately $500. [37][38] A web version of the game is available online.[37][39]\n",
    "\n",
    "Musk was severely bullied throughout his childhood, and was once hospitalized when a group of boys threw him down a flight of stairs and then beat him until he lost consciousness.[40]\n",
    "\n",
    "Musk was initially educated at private schools, attending the English-speaking Waterkloof House Preparatory School. \n",
    "\n",
    "Mr. Sing helped Musk during his initial days when he was severely bullied during his childhood.\n",
    "\n",
    "Musk later graduated from Pretoria Boys High School and moved to Canada in June 1989, just before his 18th birthday,[41] after obtaining Canadian citizenship through his Canadian-born mother.[42][43] Although at the time Musk had to register to become a Canadian citizen, Bill C-37, which came into law in April of 2009, effectively made his Canadian citizenship retroactive to his birth since he was born in the first generation abroad to a Canadian-born mother. Therefore, with the law change, he is considered to have always been a Canadian citizen by birth.\"\"\"\n",
    "\n",
    "\n"
   ]
  },
  {
   "cell_type": "code",
   "execution_count": 48,
   "metadata": {
    "collapsed": true,
    "deletable": true,
    "editable": true
   },
   "outputs": [],
   "source": [
    "s_t1 = sent_tokenize(content1)"
   ]
  },
  {
   "cell_type": "code",
   "execution_count": 49,
   "metadata": {
    "collapsed": false
   },
   "outputs": [
    {
     "data": {
      "text/plain": [
       "15"
      ]
     },
     "execution_count": 49,
     "metadata": {},
     "output_type": "execute_result"
    }
   ],
   "source": [
    "len(s_t1)"
   ]
  },
  {
   "cell_type": "code",
   "execution_count": 14,
   "metadata": {
    "collapsed": true,
    "deletable": true,
    "editable": true
   },
   "outputs": [],
   "source": [
    "# Use the function created earlier to detect the first criteria"
   ]
  },
  {
   "cell_type": "code",
   "execution_count": 15,
   "metadata": {
    "collapsed": false,
    "deletable": true,
    "editable": true
   },
   "outputs": [
    {
     "name": "stdout",
     "output_type": "stream",
     "text": [
      "CRITERIA 1 FULFILLED\n"
     ]
    }
   ],
   "source": [
    "if (len(s_t1) <= 15):\n",
    "    print(\"CRITERIA 1 FULFILLED\")\n",
    "else:\n",
    "    print(\"CRITERIA 2 FAILED\")"
   ]
  },
  {
   "cell_type": "code",
   "execution_count": 16,
   "metadata": {
    "collapsed": true,
    "deletable": true,
    "editable": true
   },
   "outputs": [],
   "source": [
    "# Use the function created earlier to detect the second criteria"
   ]
  },
  {
   "cell_type": "code",
   "execution_count": 55,
   "metadata": {
    "collapsed": false,
    "deletable": true,
    "editable": true,
    "scrolled": true
   },
   "outputs": [
    {
     "name": "stdout",
     "output_type": "stream",
     "text": [
      "CRITERIA 2 FAILED\n",
      "14  sentences out of range\n",
      "['Musk was born on June 28, 1971, in Pretoria, Gauteng, South Africa,[27] the son of Maye Musk (née Haldeman), a model and dietician from Regina, Saskatchewan, Canada;[28] and Errol Musk, a South African electromechanical engineer, pilot and sailor.', 'He has a younger brother, Kimbal (born 1972), and a younger sister, Tosca (born 1974).', '[28][29][30][31] His paternal grandmother was British, and he also has Pennsylvania Dutch ancestry,[32][33] and his maternal grandfather was American, from Minnesota.', '[34] After his parents divorced in 1980, Musk lived mostly with his father in the suburbs of Pretoria.', '[32]\\n\\nDuring his childhood he had an interest in reading and often did so for hours at a time.', '[35]\\n\\nAt What age did Musk got interested in computing?At age 10, he developed an interest in computing with the Commodore VIC-20.', '[36] He taught himself computer programming at the age of 12, sold the code for a BASIC-based video game he created called Blastar, to a magazine called PC and Office Technology, for approximately $500.', '[37][38] A web version of the game is available online.', '[37][39]\\n\\nMusk was severely bullied throughout his childhood, and was once hospitalized when a group of boys threw him down a flight of stairs and then beat him until he lost consciousness.', '[40]\\n\\nMusk was initially educated at private schools, attending the English-speaking Waterkloof House Preparatory School.', 'Mr.', 'Sing helped Musk during his initial days when he was severely bullied during his childhood.', 'Musk later graduated from Pretoria Boys High School and moved to Canada in June 1989, just before his 18th birthday,[41] after obtaining Canadian citizenship through his Canadian-born mother.', '[42][43] Although at the time Musk had to register to become a Canadian citizen, Bill C-37, which came into law in April of 2009, effectively made his Canadian citizenship retroactive to his birth since he was born in the first generation abroad to a Canadian-born mother.', 'Therefore, with the law change, he is considered to have always been a Canadian citizen by birth.']\n"
     ]
    }
   ],
   "source": [
    "w_t1 = []\n",
    "c1 = 0\n",
    "for i in range(15):\n",
    "    w_t1.extend(word_tokenize(str(s_t1[i])))\n",
    "    if(len(word_tokenize(str(s_t1[i]))) <= 15):\n",
    "        c1=c1+1\n",
    "if (c1 == 15):\n",
    "    print(\"CRITERIA 2 FULFILLED\")\n",
    "else:\n",
    "    print(\"CRITERIA 2 FAILED\")\n",
    "    print(15-c1,\" sentences out of range\")\n",
    "\n",
    "print((s_t1))"
   ]
  },
  {
   "cell_type": "code",
   "execution_count": 51,
   "metadata": {
    "collapsed": false
   },
   "outputs": [
    {
     "name": "stdout",
     "output_type": "stream",
     "text": [
      "437\n"
     ]
    }
   ],
   "source": [
    "print(len(w_t1))"
   ]
  },
  {
   "cell_type": "code",
   "execution_count": 153,
   "metadata": {
    "collapsed": true,
    "deletable": true,
    "editable": true
   },
   "outputs": [],
   "source": [
    "# Use the function created earlier to detect the third critera"
   ]
  },
  {
   "cell_type": "code",
   "execution_count": 31,
   "metadata": {
    "collapsed": false,
    "deletable": true,
    "editable": true
   },
   "outputs": [
    {
     "name": "stdout",
     "output_type": "stream",
     "text": [
      "##CRITERIA FAILURE AT ---> electromechanical\n",
      "##CRITERIA FAILURE AT ---> English-speaking\n",
      "CRITERIA 3 FAILED\n"
     ]
    }
   ],
   "source": [
    "p1 = 0\n",
    "for i in range(len(w_t1)):\n",
    "    if(len(w_t1[i]) <= 15):\n",
    "        p1=p1+1\n",
    "    else:\n",
    "        print(\"##CRITERIA FAILURE AT --->\",w_t1[i])\n",
    "if (p1==len(w_t1)):\n",
    "    print(\"CRITERIA 3 FULFILLED\")\n",
    "else:\n",
    "    print(\"CRITERIA 3 FAILED\")"
   ]
  },
  {
   "cell_type": "markdown",
   "metadata": {
    "collapsed": true,
    "deletable": true,
    "editable": true
   },
   "source": [
    "### Difference"
   ]
  },
  {
   "cell_type": "code",
   "execution_count": 57,
   "metadata": {
    "collapsed": false,
    "deletable": true,
    "editable": true
   },
   "outputs": [
    {
     "name": "stdout",
     "output_type": "stream",
     "text": [
      "2057\n"
     ]
    }
   ],
   "source": [
    "## PARAGRAPH 1\n",
    "print(len(content))"
   ]
  },
  {
   "cell_type": "code",
   "execution_count": 58,
   "metadata": {
    "collapsed": false
   },
   "outputs": [
    {
     "name": "stdout",
     "output_type": "stream",
     "text": [
      "2055\n"
     ]
    }
   ],
   "source": [
    "## PARAGRAPH 2\n",
    "print(len(content1))"
   ]
  },
  {
   "cell_type": "markdown",
   "metadata": {},
   "source": [
    "##### 1)\n",
    "    \"Mr. Singh helped Musk during his initial days when he was severely bullied during his childhood.\"\n",
    "    is treated as a single sentence while tokenizing\n",
    "    while in second paragraph \n",
    "    \"Mr. Sing helped Musk during his initial days when he was severely bullied during his childhood.\"\n",
    "    is not treated as a single sentence ('Mr.' as a sentence and rest as a seperate sentence) because 'Sing' is a VERB!!\n",
    "\n",
    "##### 2)\n",
    "    computing? At age 10\n",
    "    while in second paragraph\n",
    "    computing?At age 10\n",
    "    Due to which a sentence got deducted in second paragraph.\n",
    "    \n",
    "    "
   ]
  },
  {
   "cell_type": "code",
   "execution_count": null,
   "metadata": {
    "collapsed": true
   },
   "outputs": [],
   "source": []
  }
 ],
 "metadata": {
  "kernelspec": {
   "display_name": "Python 3",
   "language": "python",
   "name": "python3"
  },
  "language_info": {
   "codemirror_mode": {
    "name": "ipython",
    "version": 3
   },
   "file_extension": ".py",
   "mimetype": "text/x-python",
   "name": "python",
   "nbconvert_exporter": "python",
   "pygments_lexer": "ipython3",
   "version": "3.5.2"
  }
 },
 "nbformat": 4,
 "nbformat_minor": 2
}
