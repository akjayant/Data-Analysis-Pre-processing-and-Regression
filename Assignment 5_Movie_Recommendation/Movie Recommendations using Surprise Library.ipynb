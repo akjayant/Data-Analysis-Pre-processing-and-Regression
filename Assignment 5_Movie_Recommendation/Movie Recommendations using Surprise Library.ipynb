{
 "cells": [
  {
   "cell_type": "code",
   "execution_count": 1,
   "metadata": {
    "collapsed": true,
    "deletable": true,
    "editable": true
   },
   "outputs": [],
   "source": [
    "##Author - Ashish Kumar Jayant\n",
    "\n",
    "import pandas as pd\n",
    "from surprise.prediction_algorithms.knns import KNNWithMeans as knn\n",
    "from surprise import Dataset\n",
    "from surprise import evaluate"
   ]
  },
  {
   "cell_type": "code",
   "execution_count": 3,
   "metadata": {
    "collapsed": false,
    "deletable": true,
    "editable": true
   },
   "outputs": [],
   "source": [
    "# reading the data\n",
    "header1 = ['user_id', 'item_id', 'rating', 'timestamp']\n",
    "df_data = pd.read_csv('u.data', sep='\\t', names=header1)\n",
    "header2 = ['user_id', 'age', 'gender', 'occupation', 'zip_code']\n",
    "df_user = pd.read_csv('u.user', sep='|', names=header2)\n",
    "header3 = ['movie_id', 'movie_title', 'release_date', 'video_release_date', 'IMDb_URL', 'unknown', 'Action', 'Adventure',\n",
    "           'Animation', 'Children\\'s', 'Comedy', 'Crime', 'Documentary', 'Drama', 'Fantasy', 'Film-Noir', 'Horror',\n",
    "           'Musical', 'Mystery', 'Romance', 'Sci-Fi', 'Thriller', 'War', 'Western']\n",
    "df_item = pd.read_csv('u.item', sep='|', names=header3, encoding='latin-1')"
   ]
  },
  {
   "cell_type": "markdown",
   "metadata": {
    "deletable": true,
    "editable": true
   },
   "source": [
    "## KNN using the Surprise Package"
   ]
  },
  {
   "cell_type": "code",
   "execution_count": 4,
   "metadata": {
    "collapsed": false,
    "deletable": true,
    "editable": true
   },
   "outputs": [],
   "source": [
    "header = ['user_id', 'item_id', 'rating', 'timestamp']\n",
    "df = pd.read_csv('u.data', sep='\\t', names=header)"
   ]
  },
  {
   "cell_type": "code",
   "execution_count": 4,
   "metadata": {
    "collapsed": false,
    "deletable": true,
    "editable": true
   },
   "outputs": [],
   "source": [
    "data = Dataset.load_builtin('ml-100k')\n",
    "data.split(n_folds=3)"
   ]
  },
  {
   "cell_type": "code",
   "execution_count": 34,
   "metadata": {
    "collapsed": false,
    "deletable": true,
    "editable": true
   },
   "outputs": [],
   "source": [
    "algo = knn(k=10, min_k=1)"
   ]
  },
  {
   "cell_type": "code",
   "execution_count": 35,
   "metadata": {
    "collapsed": false,
    "deletable": true,
    "editable": true
   },
   "outputs": [
    {
     "name": "stdout",
     "output_type": "stream",
     "text": [
      "Computing the msd similarity matrix...\n",
      "Done computing similarity matrix.\n",
      "Computing the msd similarity matrix...\n",
      "Done computing similarity matrix.\n",
      "Computing the msd similarity matrix...\n",
      "Done computing similarity matrix.\n"
     ]
    }
   ],
   "source": [
    "for trainset, testset in data.folds():\n",
    "    algo.train(trainset)\n",
    "    pred = algo.test(testset)"
   ]
  },
  {
   "cell_type": "code",
   "execution_count": 36,
   "metadata": {
    "collapsed": false,
    "deletable": true,
    "editable": true,
    "scrolled": true
   },
   "outputs": [
    {
     "name": "stdout",
     "output_type": "stream",
     "text": [
      "Evaluating RMSE, MAE of algorithm KNNWithMeans.\n",
      "\n",
      "------------\n",
      "Fold 1\n",
      "Computing the msd similarity matrix...\n",
      "Done computing similarity matrix.\n",
      "RMSE: 0.9784\n",
      "MAE:  0.7741\n",
      "------------\n",
      "Fold 2\n",
      "Computing the msd similarity matrix...\n",
      "Done computing similarity matrix.\n",
      "RMSE: 0.9822\n",
      "MAE:  0.7749\n",
      "------------\n",
      "Fold 3\n",
      "Computing the msd similarity matrix...\n",
      "Done computing similarity matrix.\n",
      "RMSE: 0.9815\n",
      "MAE:  0.7746\n",
      "------------\n",
      "------------\n",
      "Mean RMSE: 0.9807\n",
      "Mean MAE : 0.7745\n",
      "------------\n",
      "------------\n"
     ]
    }
   ],
   "source": [
    "perf = evaluate(algo, data, measures=['RMSE', 'MAE'])"
   ]
  },
  {
   "cell_type": "code",
   "execution_count": 37,
   "metadata": {
    "collapsed": false,
    "deletable": true,
    "editable": true,
    "scrolled": true
   },
   "outputs": [
    {
     "data": {
      "text/plain": [
       "[Prediction(uid='373', iid='82', r_ui=1.0, est=3.9656888385533366, details={'actual_k': 10, 'was_impossible': False}),\n",
       " Prediction(uid='464', iid='300', r_ui=4.0, est=3.8758862883750909, details={'actual_k': 10, 'was_impossible': False}),\n",
       " Prediction(uid='537', iid='195', r_ui=3.0, est=2.7744638393207217, details={'actual_k': 10, 'was_impossible': False}),\n",
       " Prediction(uid='405', iid='551', r_ui=1.0, est=1, details={'actual_k': 10, 'was_impossible': False}),\n",
       " Prediction(uid='332', iid='871', r_ui=3.0, est=3.2037880177472084, details={'actual_k': 10, 'was_impossible': False})]"
      ]
     },
     "execution_count": 37,
     "metadata": {},
     "output_type": "execute_result"
    }
   ],
   "source": [
    "pred[:5]"
   ]
  },
  {
   "cell_type": "markdown",
   "metadata": {
    "deletable": true,
    "editable": true
   },
   "source": [
    "## Predict the ratings for one user for example user_id = 942"
   ]
  },
  {
   "cell_type": "code",
   "execution_count": 38,
   "metadata": {
    "collapsed": true,
    "deletable": true,
    "editable": true
   },
   "outputs": [],
   "source": [
    "predict = []\n",
    "for i in range(1682):\n",
    "    predict.append(algo.predict('942', str(i), r_ui=testset).est)"
   ]
  },
  {
   "cell_type": "code",
   "execution_count": 39,
   "metadata": {
    "collapsed": false,
    "deletable": true,
    "editable": true
   },
   "outputs": [
    {
     "data": {
      "text/plain": [
       "[5, 5, 5, 5, 5, 5, 5, 5, 5, 5]"
      ]
     },
     "execution_count": 39,
     "metadata": {},
     "output_type": "execute_result"
    }
   ],
   "source": [
    "# Top 10 ratings\n",
    "top = sorted(predict, reverse=True)[:10]\n",
    "top"
   ]
  },
  {
   "cell_type": "markdown",
   "metadata": {
    "deletable": true,
    "editable": true
   },
   "source": [
    "## Get index of the top 10 recommended movies"
   ]
  },
  {
   "cell_type": "code",
   "execution_count": 40,
   "metadata": {
    "collapsed": true,
    "deletable": true,
    "editable": true
   },
   "outputs": [],
   "source": [
    "get_indexes = lambda x, xs: [i for (y, i) in zip(xs, range(len(xs))) if x == y]"
   ]
  },
  {
   "cell_type": "code",
   "execution_count": 41,
   "metadata": {
    "collapsed": false,
    "deletable": true,
    "editable": true
   },
   "outputs": [
    {
     "data": {
      "text/plain": [
       "<function __main__.<lambda>>"
      ]
     },
     "execution_count": 41,
     "metadata": {},
     "output_type": "execute_result"
    }
   ],
   "source": [
    "get_indexes"
   ]
  },
  {
   "cell_type": "code",
   "execution_count": 42,
   "metadata": {
    "collapsed": false,
    "deletable": true,
    "editable": true,
    "scrolled": true
   },
   "outputs": [
    {
     "data": {
      "text/plain": [
       "[50, 71, 97, 132, 172, 215, 265, 272, 273, 282]"
      ]
     },
     "execution_count": 42,
     "metadata": {},
     "output_type": "execute_result"
    }
   ],
   "source": [
    "indexes = []\n",
    "predict = list(predict)\n",
    "count = 1\n",
    "for i in top:\n",
    "    if predict.index(i) in indexes:\n",
    "        indexes.append(get_indexes(i, predict)[count])\n",
    "        count += 1\n",
    "    else:\n",
    "        indexes.append(predict.index(i))\n",
    "indexes"
   ]
  },
  {
   "cell_type": "markdown",
   "metadata": {
    "deletable": true,
    "editable": true
   },
   "source": [
    "## Get the names of movies user has rated"
   ]
  },
  {
   "cell_type": "code",
   "execution_count": 90,
   "metadata": {
    "collapsed": false,
    "deletable": true,
    "editable": true
   },
   "outputs": [],
   "source": [
    "y = pd.DataFrame(df[(df.user_id == 942) & (df.rating > 4)  ]['item_id'])"
   ]
  },
  {
   "cell_type": "code",
   "execution_count": 91,
   "metadata": {
    "collapsed": false,
    "deletable": true,
    "editable": true,
    "scrolled": true
   },
   "outputs": [
    {
     "data": {
      "text/plain": [
       "(1682, 24)"
      ]
     },
     "execution_count": 91,
     "metadata": {},
     "output_type": "execute_result"
    }
   ],
   "source": [
    "df_item.shape"
   ]
  },
  {
   "cell_type": "code",
   "execution_count": 92,
   "metadata": {
    "collapsed": false,
    "deletable": true,
    "editable": true
   },
   "outputs": [
    {
     "name": "stdout",
     "output_type": "stream",
     "text": [
      "422    E.T. the Extra-Terrestrial (1982)\n",
      "Name: movie_title, dtype: object\n",
      "426    To Kill a Mockingbird (1962)\n",
      "Name: movie_title, dtype: object\n",
      "346    Wag the Dog (1997)\n",
      "Name: movie_title, dtype: object\n",
      "303    Fly Away Home (1996)\n",
      "Name: movie_title, dtype: object\n",
      "192    Right Stuff, The (1983)\n",
      "Name: movie_title, dtype: object\n",
      "30    Crimson Tide (1995)\n",
      "Name: movie_title, dtype: object\n",
      "130    Breakfast at Tiffany's (1961)\n",
      "Name: movie_title, dtype: object\n",
      "499    Fly Away Home (1996)\n",
      "Name: movie_title, dtype: object\n",
      "171    Empire Strikes Back, The (1980)\n",
      "Name: movie_title, dtype: object\n",
      "606    Rebecca (1940)\n",
      "Name: movie_title, dtype: object\n",
      "495    It's a Wonderful Life (1946)\n",
      "Name: movie_title, dtype: object\n",
      "94    Aladdin (1992)\n",
      "Name: movie_title, dtype: object\n",
      "49    Star Wars (1977)\n",
      "Name: movie_title, dtype: object\n",
      "1049    Ghost and Mrs. Muir, The (1947)\n",
      "Name: movie_title, dtype: object\n",
      "96    Dances with Wolves (1990)\n",
      "Name: movie_title, dtype: object\n",
      "527    Killing Fields, The (1984)\n",
      "Name: movie_title, dtype: object\n",
      "658    Arsenic and Old Lace (1944)\n",
      "Name: movie_title, dtype: object\n",
      "483    Maltese Falcon, The (1941)\n",
      "Name: movie_title, dtype: object\n",
      "70    Lion King, The (1994)\n",
      "Name: movie_title, dtype: object\n",
      "173    Raiders of the Lost Ark (1981)\n",
      "Name: movie_title, dtype: object\n",
      "271    Good Will Hunting (1997)\n",
      "Name: movie_title, dtype: object\n",
      "98    Snow White and the Seven Dwarfs (1937)\n",
      "Name: movie_title, dtype: object\n",
      "78    Fugitive, The (1993)\n",
      "Name: movie_title, dtype: object\n",
      "264    Hunt for Red October, The (1990)\n",
      "Name: movie_title, dtype: object\n",
      "519    Great Escape, The (1963)\n",
      "Name: movie_title, dtype: object\n",
      "479    North by Northwest (1959)\n",
      "Name: movie_title, dtype: object\n",
      "299    Air Force One (1997)\n",
      "Name: movie_title, dtype: object\n",
      "214    Field of Dreams (1989)\n",
      "Name: movie_title, dtype: object\n",
      "281    Time to Kill, A (1996)\n",
      "Name: movie_title, dtype: object\n",
      "434    Butch Cassidy and the Sundance Kid (1969)\n",
      "Name: movie_title, dtype: object\n",
      "477    Philadelphia Story, The (1940)\n",
      "Name: movie_title, dtype: object\n",
      "317    Schindler's List (1993)\n",
      "Name: movie_title, dtype: object\n",
      "196    Graduate, The (1967)\n",
      "Name: movie_title, dtype: object\n",
      "944    Charade (1963)\n",
      "Name: movie_title, dtype: object\n",
      "497    African Queen, The (1951)\n",
      "Name: movie_title, dtype: object\n"
     ]
    }
   ],
   "source": [
    "for i in y.item_id:\n",
    "    print(df_item[df_item['movie_id']==i]['movie_title'])"
   ]
  },
  {
   "cell_type": "markdown",
   "metadata": {
    "deletable": true,
    "editable": true
   },
   "source": [
    "## Top 10 recommendations"
   ]
  },
  {
   "cell_type": "code",
   "execution_count": 80,
   "metadata": {
    "collapsed": false,
    "deletable": true,
    "editable": true
   },
   "outputs": [
    {
     "name": "stdout",
     "output_type": "stream",
     "text": [
      "814    One Fine Day (1996)\n",
      "Name: movie_title, dtype: object\n",
      "1467    Cure, The (1995)\n",
      "Name: movie_title, dtype: object\n",
      "1599    Guantanamera (1994)\n",
      "Name: movie_title, dtype: object\n",
      "1500    Prisoner of the Mountains (Kavkazsky Plennik) ...\n",
      "Name: movie_title, dtype: object\n",
      "1367    Mina Tannenbaum (1994)\n",
      "Name: movie_title, dtype: object\n",
      "1639    Eighth Day, The (1996)\n",
      "Name: movie_title, dtype: object\n",
      "1653    Chairman of the Board (1998)\n",
      "Name: movie_title, dtype: object\n",
      "1642    Angel Baby (1995)\n",
      "Name: movie_title, dtype: object\n",
      "1449    Golden Earrings (1947)\n",
      "Name: movie_title, dtype: object\n",
      "1293    Ayn Rand: A Sense of Life (1997)\n",
      "Name: movie_title, dtype: object\n"
     ]
    }
   ],
   "source": [
    "for i in indexes:\n",
    "    movie = df_item.movie_title[df_item['movie_id'] == i+1]\n",
    "    print(movie)"
   ]
  },
  {
   "cell_type": "code",
   "execution_count": null,
   "metadata": {
    "collapsed": true,
    "deletable": true,
    "editable": true
   },
   "outputs": [],
   "source": []
  }
 ],
 "metadata": {
  "kernelspec": {
   "display_name": "Python 3",
   "language": "python",
   "name": "python3"
  },
  "language_info": {
   "codemirror_mode": {
    "name": "ipython",
    "version": 3
   },
   "file_extension": ".py",
   "mimetype": "text/x-python",
   "name": "python",
   "nbconvert_exporter": "python",
   "pygments_lexer": "ipython3",
   "version": "3.5.2"
  }
 },
 "nbformat": 4,
 "nbformat_minor": 2
}
